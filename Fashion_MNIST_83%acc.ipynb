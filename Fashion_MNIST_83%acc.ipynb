{
  "nbformat": 4,
  "nbformat_minor": 5,
  "metadata": {
    "kernelspec": {
      "name": "python395jvsc74a57bd05d8eb55396b26e444e25830983e23d02f9d742a022e83389ffb69c4e4a8d7f54",
      "display_name": "Python 3.9.5 64-bit ('deep_learning': conda)"
    },
    "language_info": {
      "codemirror_mode": {
        "name": "ipython",
        "version": 3
      },
      "file_extension": ".py",
      "mimetype": "text/x-python",
      "name": "python",
      "nbconvert_exporter": "python",
      "pygments_lexer": "ipython3",
      "version": "3.9.5"
    },
    "colab": {
      "name": "Untitled.ipynb",
      "provenance": [],
      "toc_visible": true
    },
    "accelerator": "GPU",
    "widgets": {
      "application/vnd.jupyter.widget-state+json": {
        "652dc63c18be4ce18d2dc465629163ea": {
          "model_module": "@jupyter-widgets/controls",
          "model_name": "HBoxModel",
          "state": {
            "_view_name": "HBoxView",
            "_dom_classes": [],
            "_model_name": "HBoxModel",
            "_view_module": "@jupyter-widgets/controls",
            "_model_module_version": "1.5.0",
            "_view_count": null,
            "_view_module_version": "1.5.0",
            "box_style": "",
            "layout": "IPY_MODEL_54b36ca2406d4e07ba36931d6446cc67",
            "_model_module": "@jupyter-widgets/controls",
            "children": [
              "IPY_MODEL_b1fac55891504431bf8703849bcfc5f6",
              "IPY_MODEL_e78a007be90f41738cdda6e1012820e2"
            ]
          }
        },
        "54b36ca2406d4e07ba36931d6446cc67": {
          "model_module": "@jupyter-widgets/base",
          "model_name": "LayoutModel",
          "state": {
            "_view_name": "LayoutView",
            "grid_template_rows": null,
            "right": null,
            "justify_content": null,
            "_view_module": "@jupyter-widgets/base",
            "overflow": null,
            "_model_module_version": "1.2.0",
            "_view_count": null,
            "flex_flow": null,
            "width": null,
            "min_width": null,
            "border": null,
            "align_items": null,
            "bottom": null,
            "_model_module": "@jupyter-widgets/base",
            "top": null,
            "grid_column": null,
            "overflow_y": null,
            "overflow_x": null,
            "grid_auto_flow": null,
            "grid_area": null,
            "grid_template_columns": null,
            "flex": null,
            "_model_name": "LayoutModel",
            "justify_items": null,
            "grid_row": null,
            "max_height": null,
            "align_content": null,
            "visibility": null,
            "align_self": null,
            "height": null,
            "min_height": null,
            "padding": null,
            "grid_auto_rows": null,
            "grid_gap": null,
            "max_width": null,
            "order": null,
            "_view_module_version": "1.2.0",
            "grid_template_areas": null,
            "object_position": null,
            "object_fit": null,
            "grid_auto_columns": null,
            "margin": null,
            "display": null,
            "left": null
          }
        },
        "b1fac55891504431bf8703849bcfc5f6": {
          "model_module": "@jupyter-widgets/controls",
          "model_name": "FloatProgressModel",
          "state": {
            "_view_name": "ProgressView",
            "style": "IPY_MODEL_8043e64cf47d48cc9f98773024e6f68a",
            "_dom_classes": [],
            "description": "",
            "_model_name": "FloatProgressModel",
            "bar_style": "success",
            "max": 26421880,
            "_view_module": "@jupyter-widgets/controls",
            "_model_module_version": "1.5.0",
            "value": 26421880,
            "_view_count": null,
            "_view_module_version": "1.5.0",
            "orientation": "horizontal",
            "min": 0,
            "description_tooltip": null,
            "_model_module": "@jupyter-widgets/controls",
            "layout": "IPY_MODEL_eefe89ee964a41749512042990ad834d"
          }
        },
        "e78a007be90f41738cdda6e1012820e2": {
          "model_module": "@jupyter-widgets/controls",
          "model_name": "HTMLModel",
          "state": {
            "_view_name": "HTMLView",
            "style": "IPY_MODEL_ee46d4f9702e47caa1c2cea41f913034",
            "_dom_classes": [],
            "description": "",
            "_model_name": "HTMLModel",
            "placeholder": "​",
            "_view_module": "@jupyter-widgets/controls",
            "_model_module_version": "1.5.0",
            "value": " 26422272/? [00:13&lt;00:00, 1954501.70it/s]",
            "_view_count": null,
            "_view_module_version": "1.5.0",
            "description_tooltip": null,
            "_model_module": "@jupyter-widgets/controls",
            "layout": "IPY_MODEL_2c725df31622412bb28f0329a7360a68"
          }
        },
        "8043e64cf47d48cc9f98773024e6f68a": {
          "model_module": "@jupyter-widgets/controls",
          "model_name": "ProgressStyleModel",
          "state": {
            "_view_name": "StyleView",
            "_model_name": "ProgressStyleModel",
            "description_width": "initial",
            "_view_module": "@jupyter-widgets/base",
            "_model_module_version": "1.5.0",
            "_view_count": null,
            "_view_module_version": "1.2.0",
            "bar_color": null,
            "_model_module": "@jupyter-widgets/controls"
          }
        },
        "eefe89ee964a41749512042990ad834d": {
          "model_module": "@jupyter-widgets/base",
          "model_name": "LayoutModel",
          "state": {
            "_view_name": "LayoutView",
            "grid_template_rows": null,
            "right": null,
            "justify_content": null,
            "_view_module": "@jupyter-widgets/base",
            "overflow": null,
            "_model_module_version": "1.2.0",
            "_view_count": null,
            "flex_flow": null,
            "width": null,
            "min_width": null,
            "border": null,
            "align_items": null,
            "bottom": null,
            "_model_module": "@jupyter-widgets/base",
            "top": null,
            "grid_column": null,
            "overflow_y": null,
            "overflow_x": null,
            "grid_auto_flow": null,
            "grid_area": null,
            "grid_template_columns": null,
            "flex": null,
            "_model_name": "LayoutModel",
            "justify_items": null,
            "grid_row": null,
            "max_height": null,
            "align_content": null,
            "visibility": null,
            "align_self": null,
            "height": null,
            "min_height": null,
            "padding": null,
            "grid_auto_rows": null,
            "grid_gap": null,
            "max_width": null,
            "order": null,
            "_view_module_version": "1.2.0",
            "grid_template_areas": null,
            "object_position": null,
            "object_fit": null,
            "grid_auto_columns": null,
            "margin": null,
            "display": null,
            "left": null
          }
        },
        "ee46d4f9702e47caa1c2cea41f913034": {
          "model_module": "@jupyter-widgets/controls",
          "model_name": "DescriptionStyleModel",
          "state": {
            "_view_name": "StyleView",
            "_model_name": "DescriptionStyleModel",
            "description_width": "",
            "_view_module": "@jupyter-widgets/base",
            "_model_module_version": "1.5.0",
            "_view_count": null,
            "_view_module_version": "1.2.0",
            "_model_module": "@jupyter-widgets/controls"
          }
        },
        "2c725df31622412bb28f0329a7360a68": {
          "model_module": "@jupyter-widgets/base",
          "model_name": "LayoutModel",
          "state": {
            "_view_name": "LayoutView",
            "grid_template_rows": null,
            "right": null,
            "justify_content": null,
            "_view_module": "@jupyter-widgets/base",
            "overflow": null,
            "_model_module_version": "1.2.0",
            "_view_count": null,
            "flex_flow": null,
            "width": null,
            "min_width": null,
            "border": null,
            "align_items": null,
            "bottom": null,
            "_model_module": "@jupyter-widgets/base",
            "top": null,
            "grid_column": null,
            "overflow_y": null,
            "overflow_x": null,
            "grid_auto_flow": null,
            "grid_area": null,
            "grid_template_columns": null,
            "flex": null,
            "_model_name": "LayoutModel",
            "justify_items": null,
            "grid_row": null,
            "max_height": null,
            "align_content": null,
            "visibility": null,
            "align_self": null,
            "height": null,
            "min_height": null,
            "padding": null,
            "grid_auto_rows": null,
            "grid_gap": null,
            "max_width": null,
            "order": null,
            "_view_module_version": "1.2.0",
            "grid_template_areas": null,
            "object_position": null,
            "object_fit": null,
            "grid_auto_columns": null,
            "margin": null,
            "display": null,
            "left": null
          }
        },
        "077c5b9c67154a0eb31e0488d472e010": {
          "model_module": "@jupyter-widgets/controls",
          "model_name": "HBoxModel",
          "state": {
            "_view_name": "HBoxView",
            "_dom_classes": [],
            "_model_name": "HBoxModel",
            "_view_module": "@jupyter-widgets/controls",
            "_model_module_version": "1.5.0",
            "_view_count": null,
            "_view_module_version": "1.5.0",
            "box_style": "",
            "layout": "IPY_MODEL_cc80a8b1011d43bd82a85d0d8017a369",
            "_model_module": "@jupyter-widgets/controls",
            "children": [
              "IPY_MODEL_5ea77f359b834628b9188addd0c48dee",
              "IPY_MODEL_aa57c11b012246cc9b04660871d96d79"
            ]
          }
        },
        "cc80a8b1011d43bd82a85d0d8017a369": {
          "model_module": "@jupyter-widgets/base",
          "model_name": "LayoutModel",
          "state": {
            "_view_name": "LayoutView",
            "grid_template_rows": null,
            "right": null,
            "justify_content": null,
            "_view_module": "@jupyter-widgets/base",
            "overflow": null,
            "_model_module_version": "1.2.0",
            "_view_count": null,
            "flex_flow": null,
            "width": null,
            "min_width": null,
            "border": null,
            "align_items": null,
            "bottom": null,
            "_model_module": "@jupyter-widgets/base",
            "top": null,
            "grid_column": null,
            "overflow_y": null,
            "overflow_x": null,
            "grid_auto_flow": null,
            "grid_area": null,
            "grid_template_columns": null,
            "flex": null,
            "_model_name": "LayoutModel",
            "justify_items": null,
            "grid_row": null,
            "max_height": null,
            "align_content": null,
            "visibility": null,
            "align_self": null,
            "height": null,
            "min_height": null,
            "padding": null,
            "grid_auto_rows": null,
            "grid_gap": null,
            "max_width": null,
            "order": null,
            "_view_module_version": "1.2.0",
            "grid_template_areas": null,
            "object_position": null,
            "object_fit": null,
            "grid_auto_columns": null,
            "margin": null,
            "display": null,
            "left": null
          }
        },
        "5ea77f359b834628b9188addd0c48dee": {
          "model_module": "@jupyter-widgets/controls",
          "model_name": "FloatProgressModel",
          "state": {
            "_view_name": "ProgressView",
            "style": "IPY_MODEL_fa8ba9454270454881e4fa50edddf096",
            "_dom_classes": [],
            "description": "",
            "_model_name": "FloatProgressModel",
            "bar_style": "success",
            "max": 29515,
            "_view_module": "@jupyter-widgets/controls",
            "_model_module_version": "1.5.0",
            "value": 29515,
            "_view_count": null,
            "_view_module_version": "1.5.0",
            "orientation": "horizontal",
            "min": 0,
            "description_tooltip": null,
            "_model_module": "@jupyter-widgets/controls",
            "layout": "IPY_MODEL_bb5030b4f5374664868a2a9c24493ef4"
          }
        },
        "aa57c11b012246cc9b04660871d96d79": {
          "model_module": "@jupyter-widgets/controls",
          "model_name": "HTMLModel",
          "state": {
            "_view_name": "HTMLView",
            "style": "IPY_MODEL_4b71b2a9f42941a883c271a15681df7c",
            "_dom_classes": [],
            "description": "",
            "_model_name": "HTMLModel",
            "placeholder": "​",
            "_view_module": "@jupyter-widgets/controls",
            "_model_module_version": "1.5.0",
            "value": " 29696/? [00:02&lt;00:00, 11221.02it/s]",
            "_view_count": null,
            "_view_module_version": "1.5.0",
            "description_tooltip": null,
            "_model_module": "@jupyter-widgets/controls",
            "layout": "IPY_MODEL_ab22a6424e5743df9a7b45c2e3a31ac6"
          }
        },
        "fa8ba9454270454881e4fa50edddf096": {
          "model_module": "@jupyter-widgets/controls",
          "model_name": "ProgressStyleModel",
          "state": {
            "_view_name": "StyleView",
            "_model_name": "ProgressStyleModel",
            "description_width": "initial",
            "_view_module": "@jupyter-widgets/base",
            "_model_module_version": "1.5.0",
            "_view_count": null,
            "_view_module_version": "1.2.0",
            "bar_color": null,
            "_model_module": "@jupyter-widgets/controls"
          }
        },
        "bb5030b4f5374664868a2a9c24493ef4": {
          "model_module": "@jupyter-widgets/base",
          "model_name": "LayoutModel",
          "state": {
            "_view_name": "LayoutView",
            "grid_template_rows": null,
            "right": null,
            "justify_content": null,
            "_view_module": "@jupyter-widgets/base",
            "overflow": null,
            "_model_module_version": "1.2.0",
            "_view_count": null,
            "flex_flow": null,
            "width": null,
            "min_width": null,
            "border": null,
            "align_items": null,
            "bottom": null,
            "_model_module": "@jupyter-widgets/base",
            "top": null,
            "grid_column": null,
            "overflow_y": null,
            "overflow_x": null,
            "grid_auto_flow": null,
            "grid_area": null,
            "grid_template_columns": null,
            "flex": null,
            "_model_name": "LayoutModel",
            "justify_items": null,
            "grid_row": null,
            "max_height": null,
            "align_content": null,
            "visibility": null,
            "align_self": null,
            "height": null,
            "min_height": null,
            "padding": null,
            "grid_auto_rows": null,
            "grid_gap": null,
            "max_width": null,
            "order": null,
            "_view_module_version": "1.2.0",
            "grid_template_areas": null,
            "object_position": null,
            "object_fit": null,
            "grid_auto_columns": null,
            "margin": null,
            "display": null,
            "left": null
          }
        },
        "4b71b2a9f42941a883c271a15681df7c": {
          "model_module": "@jupyter-widgets/controls",
          "model_name": "DescriptionStyleModel",
          "state": {
            "_view_name": "StyleView",
            "_model_name": "DescriptionStyleModel",
            "description_width": "",
            "_view_module": "@jupyter-widgets/base",
            "_model_module_version": "1.5.0",
            "_view_count": null,
            "_view_module_version": "1.2.0",
            "_model_module": "@jupyter-widgets/controls"
          }
        },
        "ab22a6424e5743df9a7b45c2e3a31ac6": {
          "model_module": "@jupyter-widgets/base",
          "model_name": "LayoutModel",
          "state": {
            "_view_name": "LayoutView",
            "grid_template_rows": null,
            "right": null,
            "justify_content": null,
            "_view_module": "@jupyter-widgets/base",
            "overflow": null,
            "_model_module_version": "1.2.0",
            "_view_count": null,
            "flex_flow": null,
            "width": null,
            "min_width": null,
            "border": null,
            "align_items": null,
            "bottom": null,
            "_model_module": "@jupyter-widgets/base",
            "top": null,
            "grid_column": null,
            "overflow_y": null,
            "overflow_x": null,
            "grid_auto_flow": null,
            "grid_area": null,
            "grid_template_columns": null,
            "flex": null,
            "_model_name": "LayoutModel",
            "justify_items": null,
            "grid_row": null,
            "max_height": null,
            "align_content": null,
            "visibility": null,
            "align_self": null,
            "height": null,
            "min_height": null,
            "padding": null,
            "grid_auto_rows": null,
            "grid_gap": null,
            "max_width": null,
            "order": null,
            "_view_module_version": "1.2.0",
            "grid_template_areas": null,
            "object_position": null,
            "object_fit": null,
            "grid_auto_columns": null,
            "margin": null,
            "display": null,
            "left": null
          }
        },
        "3bcb31c6ffd74bd2890407dcbf923d62": {
          "model_module": "@jupyter-widgets/controls",
          "model_name": "HBoxModel",
          "state": {
            "_view_name": "HBoxView",
            "_dom_classes": [],
            "_model_name": "HBoxModel",
            "_view_module": "@jupyter-widgets/controls",
            "_model_module_version": "1.5.0",
            "_view_count": null,
            "_view_module_version": "1.5.0",
            "box_style": "",
            "layout": "IPY_MODEL_be5d53d054a94ebbb8a15f85bb5245f1",
            "_model_module": "@jupyter-widgets/controls",
            "children": [
              "IPY_MODEL_d44117c641404593bf106e055d0233e4",
              "IPY_MODEL_048668986bbf49d88e64c745091c0ee6"
            ]
          }
        },
        "be5d53d054a94ebbb8a15f85bb5245f1": {
          "model_module": "@jupyter-widgets/base",
          "model_name": "LayoutModel",
          "state": {
            "_view_name": "LayoutView",
            "grid_template_rows": null,
            "right": null,
            "justify_content": null,
            "_view_module": "@jupyter-widgets/base",
            "overflow": null,
            "_model_module_version": "1.2.0",
            "_view_count": null,
            "flex_flow": null,
            "width": null,
            "min_width": null,
            "border": null,
            "align_items": null,
            "bottom": null,
            "_model_module": "@jupyter-widgets/base",
            "top": null,
            "grid_column": null,
            "overflow_y": null,
            "overflow_x": null,
            "grid_auto_flow": null,
            "grid_area": null,
            "grid_template_columns": null,
            "flex": null,
            "_model_name": "LayoutModel",
            "justify_items": null,
            "grid_row": null,
            "max_height": null,
            "align_content": null,
            "visibility": null,
            "align_self": null,
            "height": null,
            "min_height": null,
            "padding": null,
            "grid_auto_rows": null,
            "grid_gap": null,
            "max_width": null,
            "order": null,
            "_view_module_version": "1.2.0",
            "grid_template_areas": null,
            "object_position": null,
            "object_fit": null,
            "grid_auto_columns": null,
            "margin": null,
            "display": null,
            "left": null
          }
        },
        "d44117c641404593bf106e055d0233e4": {
          "model_module": "@jupyter-widgets/controls",
          "model_name": "FloatProgressModel",
          "state": {
            "_view_name": "ProgressView",
            "style": "IPY_MODEL_7fde4600439b44ba9ad4f56adb706460",
            "_dom_classes": [],
            "description": "",
            "_model_name": "FloatProgressModel",
            "bar_style": "success",
            "max": 4422102,
            "_view_module": "@jupyter-widgets/controls",
            "_model_module_version": "1.5.0",
            "value": 4422102,
            "_view_count": null,
            "_view_module_version": "1.5.0",
            "orientation": "horizontal",
            "min": 0,
            "description_tooltip": null,
            "_model_module": "@jupyter-widgets/controls",
            "layout": "IPY_MODEL_518fe91d9b2e47c385c815cc660fb1ed"
          }
        },
        "048668986bbf49d88e64c745091c0ee6": {
          "model_module": "@jupyter-widgets/controls",
          "model_name": "HTMLModel",
          "state": {
            "_view_name": "HTMLView",
            "style": "IPY_MODEL_c2b25bb700fa44bdb92976a8dc67d99b",
            "_dom_classes": [],
            "description": "",
            "_model_name": "HTMLModel",
            "placeholder": "​",
            "_view_module": "@jupyter-widgets/controls",
            "_model_module_version": "1.5.0",
            "value": " 4422656/? [00:01&lt;00:00, 2422102.01it/s]",
            "_view_count": null,
            "_view_module_version": "1.5.0",
            "description_tooltip": null,
            "_model_module": "@jupyter-widgets/controls",
            "layout": "IPY_MODEL_8b2c4e3e873449509ac13cf47543a44b"
          }
        },
        "7fde4600439b44ba9ad4f56adb706460": {
          "model_module": "@jupyter-widgets/controls",
          "model_name": "ProgressStyleModel",
          "state": {
            "_view_name": "StyleView",
            "_model_name": "ProgressStyleModel",
            "description_width": "initial",
            "_view_module": "@jupyter-widgets/base",
            "_model_module_version": "1.5.0",
            "_view_count": null,
            "_view_module_version": "1.2.0",
            "bar_color": null,
            "_model_module": "@jupyter-widgets/controls"
          }
        },
        "518fe91d9b2e47c385c815cc660fb1ed": {
          "model_module": "@jupyter-widgets/base",
          "model_name": "LayoutModel",
          "state": {
            "_view_name": "LayoutView",
            "grid_template_rows": null,
            "right": null,
            "justify_content": null,
            "_view_module": "@jupyter-widgets/base",
            "overflow": null,
            "_model_module_version": "1.2.0",
            "_view_count": null,
            "flex_flow": null,
            "width": null,
            "min_width": null,
            "border": null,
            "align_items": null,
            "bottom": null,
            "_model_module": "@jupyter-widgets/base",
            "top": null,
            "grid_column": null,
            "overflow_y": null,
            "overflow_x": null,
            "grid_auto_flow": null,
            "grid_area": null,
            "grid_template_columns": null,
            "flex": null,
            "_model_name": "LayoutModel",
            "justify_items": null,
            "grid_row": null,
            "max_height": null,
            "align_content": null,
            "visibility": null,
            "align_self": null,
            "height": null,
            "min_height": null,
            "padding": null,
            "grid_auto_rows": null,
            "grid_gap": null,
            "max_width": null,
            "order": null,
            "_view_module_version": "1.2.0",
            "grid_template_areas": null,
            "object_position": null,
            "object_fit": null,
            "grid_auto_columns": null,
            "margin": null,
            "display": null,
            "left": null
          }
        },
        "c2b25bb700fa44bdb92976a8dc67d99b": {
          "model_module": "@jupyter-widgets/controls",
          "model_name": "DescriptionStyleModel",
          "state": {
            "_view_name": "StyleView",
            "_model_name": "DescriptionStyleModel",
            "description_width": "",
            "_view_module": "@jupyter-widgets/base",
            "_model_module_version": "1.5.0",
            "_view_count": null,
            "_view_module_version": "1.2.0",
            "_model_module": "@jupyter-widgets/controls"
          }
        },
        "8b2c4e3e873449509ac13cf47543a44b": {
          "model_module": "@jupyter-widgets/base",
          "model_name": "LayoutModel",
          "state": {
            "_view_name": "LayoutView",
            "grid_template_rows": null,
            "right": null,
            "justify_content": null,
            "_view_module": "@jupyter-widgets/base",
            "overflow": null,
            "_model_module_version": "1.2.0",
            "_view_count": null,
            "flex_flow": null,
            "width": null,
            "min_width": null,
            "border": null,
            "align_items": null,
            "bottom": null,
            "_model_module": "@jupyter-widgets/base",
            "top": null,
            "grid_column": null,
            "overflow_y": null,
            "overflow_x": null,
            "grid_auto_flow": null,
            "grid_area": null,
            "grid_template_columns": null,
            "flex": null,
            "_model_name": "LayoutModel",
            "justify_items": null,
            "grid_row": null,
            "max_height": null,
            "align_content": null,
            "visibility": null,
            "align_self": null,
            "height": null,
            "min_height": null,
            "padding": null,
            "grid_auto_rows": null,
            "grid_gap": null,
            "max_width": null,
            "order": null,
            "_view_module_version": "1.2.0",
            "grid_template_areas": null,
            "object_position": null,
            "object_fit": null,
            "grid_auto_columns": null,
            "margin": null,
            "display": null,
            "left": null
          }
        },
        "abab52deb6904ef1a3fbba54eda5b48e": {
          "model_module": "@jupyter-widgets/controls",
          "model_name": "HBoxModel",
          "state": {
            "_view_name": "HBoxView",
            "_dom_classes": [],
            "_model_name": "HBoxModel",
            "_view_module": "@jupyter-widgets/controls",
            "_model_module_version": "1.5.0",
            "_view_count": null,
            "_view_module_version": "1.5.0",
            "box_style": "",
            "layout": "IPY_MODEL_779edec69e3b4d6bb05a8dc2ed02fe9c",
            "_model_module": "@jupyter-widgets/controls",
            "children": [
              "IPY_MODEL_7f67b9b5d88a411b9961e0d9154ad019",
              "IPY_MODEL_0b15ffe638694a02ba24783b080e5abe"
            ]
          }
        },
        "779edec69e3b4d6bb05a8dc2ed02fe9c": {
          "model_module": "@jupyter-widgets/base",
          "model_name": "LayoutModel",
          "state": {
            "_view_name": "LayoutView",
            "grid_template_rows": null,
            "right": null,
            "justify_content": null,
            "_view_module": "@jupyter-widgets/base",
            "overflow": null,
            "_model_module_version": "1.2.0",
            "_view_count": null,
            "flex_flow": null,
            "width": null,
            "min_width": null,
            "border": null,
            "align_items": null,
            "bottom": null,
            "_model_module": "@jupyter-widgets/base",
            "top": null,
            "grid_column": null,
            "overflow_y": null,
            "overflow_x": null,
            "grid_auto_flow": null,
            "grid_area": null,
            "grid_template_columns": null,
            "flex": null,
            "_model_name": "LayoutModel",
            "justify_items": null,
            "grid_row": null,
            "max_height": null,
            "align_content": null,
            "visibility": null,
            "align_self": null,
            "height": null,
            "min_height": null,
            "padding": null,
            "grid_auto_rows": null,
            "grid_gap": null,
            "max_width": null,
            "order": null,
            "_view_module_version": "1.2.0",
            "grid_template_areas": null,
            "object_position": null,
            "object_fit": null,
            "grid_auto_columns": null,
            "margin": null,
            "display": null,
            "left": null
          }
        },
        "7f67b9b5d88a411b9961e0d9154ad019": {
          "model_module": "@jupyter-widgets/controls",
          "model_name": "FloatProgressModel",
          "state": {
            "_view_name": "ProgressView",
            "style": "IPY_MODEL_6d38b890421449a8a479f35f3588b324",
            "_dom_classes": [],
            "description": "",
            "_model_name": "FloatProgressModel",
            "bar_style": "success",
            "max": 5148,
            "_view_module": "@jupyter-widgets/controls",
            "_model_module_version": "1.5.0",
            "value": 5148,
            "_view_count": null,
            "_view_module_version": "1.5.0",
            "orientation": "horizontal",
            "min": 0,
            "description_tooltip": null,
            "_model_module": "@jupyter-widgets/controls",
            "layout": "IPY_MODEL_53811a05f28a43b4a145c502af2ebcca"
          }
        },
        "0b15ffe638694a02ba24783b080e5abe": {
          "model_module": "@jupyter-widgets/controls",
          "model_name": "HTMLModel",
          "state": {
            "_view_name": "HTMLView",
            "style": "IPY_MODEL_437320ae07ee40af955c83f801d3a2bd",
            "_dom_classes": [],
            "description": "",
            "_model_name": "HTMLModel",
            "placeholder": "​",
            "_view_module": "@jupyter-widgets/controls",
            "_model_module_version": "1.5.0",
            "value": " 6144/? [00:07&lt;00:00, 826.64it/s]",
            "_view_count": null,
            "_view_module_version": "1.5.0",
            "description_tooltip": null,
            "_model_module": "@jupyter-widgets/controls",
            "layout": "IPY_MODEL_36a73b70d5fe4b0cabc3a8497fa0bc55"
          }
        },
        "6d38b890421449a8a479f35f3588b324": {
          "model_module": "@jupyter-widgets/controls",
          "model_name": "ProgressStyleModel",
          "state": {
            "_view_name": "StyleView",
            "_model_name": "ProgressStyleModel",
            "description_width": "initial",
            "_view_module": "@jupyter-widgets/base",
            "_model_module_version": "1.5.0",
            "_view_count": null,
            "_view_module_version": "1.2.0",
            "bar_color": null,
            "_model_module": "@jupyter-widgets/controls"
          }
        },
        "53811a05f28a43b4a145c502af2ebcca": {
          "model_module": "@jupyter-widgets/base",
          "model_name": "LayoutModel",
          "state": {
            "_view_name": "LayoutView",
            "grid_template_rows": null,
            "right": null,
            "justify_content": null,
            "_view_module": "@jupyter-widgets/base",
            "overflow": null,
            "_model_module_version": "1.2.0",
            "_view_count": null,
            "flex_flow": null,
            "width": null,
            "min_width": null,
            "border": null,
            "align_items": null,
            "bottom": null,
            "_model_module": "@jupyter-widgets/base",
            "top": null,
            "grid_column": null,
            "overflow_y": null,
            "overflow_x": null,
            "grid_auto_flow": null,
            "grid_area": null,
            "grid_template_columns": null,
            "flex": null,
            "_model_name": "LayoutModel",
            "justify_items": null,
            "grid_row": null,
            "max_height": null,
            "align_content": null,
            "visibility": null,
            "align_self": null,
            "height": null,
            "min_height": null,
            "padding": null,
            "grid_auto_rows": null,
            "grid_gap": null,
            "max_width": null,
            "order": null,
            "_view_module_version": "1.2.0",
            "grid_template_areas": null,
            "object_position": null,
            "object_fit": null,
            "grid_auto_columns": null,
            "margin": null,
            "display": null,
            "left": null
          }
        },
        "437320ae07ee40af955c83f801d3a2bd": {
          "model_module": "@jupyter-widgets/controls",
          "model_name": "DescriptionStyleModel",
          "state": {
            "_view_name": "StyleView",
            "_model_name": "DescriptionStyleModel",
            "description_width": "",
            "_view_module": "@jupyter-widgets/base",
            "_model_module_version": "1.5.0",
            "_view_count": null,
            "_view_module_version": "1.2.0",
            "_model_module": "@jupyter-widgets/controls"
          }
        },
        "36a73b70d5fe4b0cabc3a8497fa0bc55": {
          "model_module": "@jupyter-widgets/base",
          "model_name": "LayoutModel",
          "state": {
            "_view_name": "LayoutView",
            "grid_template_rows": null,
            "right": null,
            "justify_content": null,
            "_view_module": "@jupyter-widgets/base",
            "overflow": null,
            "_model_module_version": "1.2.0",
            "_view_count": null,
            "flex_flow": null,
            "width": null,
            "min_width": null,
            "border": null,
            "align_items": null,
            "bottom": null,
            "_model_module": "@jupyter-widgets/base",
            "top": null,
            "grid_column": null,
            "overflow_y": null,
            "overflow_x": null,
            "grid_auto_flow": null,
            "grid_area": null,
            "grid_template_columns": null,
            "flex": null,
            "_model_name": "LayoutModel",
            "justify_items": null,
            "grid_row": null,
            "max_height": null,
            "align_content": null,
            "visibility": null,
            "align_self": null,
            "height": null,
            "min_height": null,
            "padding": null,
            "grid_auto_rows": null,
            "grid_gap": null,
            "max_width": null,
            "order": null,
            "_view_module_version": "1.2.0",
            "grid_template_areas": null,
            "object_position": null,
            "object_fit": null,
            "grid_auto_columns": null,
            "margin": null,
            "display": null,
            "left": null
          }
        }
      }
    },
    "metadata": {
      "interpreter": {
        "hash": "5d8eb55396b26e444e25830983e23d02f9d742a022e83389ffb69c4e4a8d7f54"
      }
    }
  },
  "cells": [
    {
      "cell_type": "code",
      "metadata": {
        "ExecuteTime": {
          "end_time": "2021-05-31T14:19:49.350694Z",
          "start_time": "2021-05-31T14:19:47.799647Z"
        },
        "colab": {
          "base_uri": "https://localhost:8080/"
        },
        "id": "3dfccc88",
        "outputId": "b0498dc4-f13b-4f15-933f-64ab1fa7688e"
      },
      "source": [
        "import time\n",
        "import numpy as np\n",
        "import pandas as pd\n",
        "import matplotlib.pyplot as plt\n",
        "\n",
        "import torch\n",
        "import torch.nn as nn\n",
        "import torch.nn.functional as F\n",
        "from torch import optim\n",
        "from torch.autograd import Variable\n",
        "\n",
        "import torchvision\n",
        "import torchvision.transforms as transforms\n",
        "from torch.utils.data import Dataset, DataLoader\n",
        "from sklearn.metrics import confusion_matrix\n",
        "\n",
        "print('setup complete')"
      ],
      "id": "3dfccc88",
      "execution_count": 1,
      "outputs": [
        {
          "output_type": "stream",
          "name": "stdout",
          "text": [
            "setup complete\n"
          ]
        }
      ]
    },
    {
      "cell_type": "code",
      "metadata": {
        "ExecuteTime": {
          "end_time": "2021-05-31T14:19:49.365626Z",
          "start_time": "2021-05-31T14:19:49.355652Z"
        },
        "colab": {
          "base_uri": "https://localhost:8080/"
        },
        "id": "9b7e2670",
        "outputId": "d776e9a0-f252-4508-8555-9c6a0abd9577"
      },
      "source": [
        "# Use GPU if available else use CPU\n",
        "\n",
        "device = torch.device(\"cuda:0\" if torch.cuda.is_available() else \"cpu\")\n",
        "device"
      ],
      "id": "9b7e2670",
      "execution_count": 2,
      "outputs": [
        {
          "output_type": "execute_result",
          "data": {
            "text/plain": [
              "device(type='cuda', index=0)"
            ]
          },
          "metadata": {},
          "execution_count": 2
        }
      ]
    },
    {
      "cell_type": "code",
      "metadata": {
        "ExecuteTime": {
          "end_time": "2021-05-31T14:19:49.427460Z",
          "start_time": "2021-05-31T14:19:49.370620Z"
        },
        "scrolled": true,
        "colab": {
          "base_uri": "https://localhost:8080/",
          "height": 581,
          "referenced_widgets": [
            "652dc63c18be4ce18d2dc465629163ea",
            "54b36ca2406d4e07ba36931d6446cc67",
            "b1fac55891504431bf8703849bcfc5f6",
            "e78a007be90f41738cdda6e1012820e2",
            "8043e64cf47d48cc9f98773024e6f68a",
            "eefe89ee964a41749512042990ad834d",
            "ee46d4f9702e47caa1c2cea41f913034",
            "2c725df31622412bb28f0329a7360a68",
            "077c5b9c67154a0eb31e0488d472e010",
            "cc80a8b1011d43bd82a85d0d8017a369",
            "5ea77f359b834628b9188addd0c48dee",
            "aa57c11b012246cc9b04660871d96d79",
            "fa8ba9454270454881e4fa50edddf096",
            "bb5030b4f5374664868a2a9c24493ef4",
            "4b71b2a9f42941a883c271a15681df7c",
            "ab22a6424e5743df9a7b45c2e3a31ac6",
            "3bcb31c6ffd74bd2890407dcbf923d62",
            "be5d53d054a94ebbb8a15f85bb5245f1",
            "d44117c641404593bf106e055d0233e4",
            "048668986bbf49d88e64c745091c0ee6",
            "7fde4600439b44ba9ad4f56adb706460",
            "518fe91d9b2e47c385c815cc660fb1ed",
            "c2b25bb700fa44bdb92976a8dc67d99b",
            "8b2c4e3e873449509ac13cf47543a44b",
            "abab52deb6904ef1a3fbba54eda5b48e",
            "779edec69e3b4d6bb05a8dc2ed02fe9c",
            "7f67b9b5d88a411b9961e0d9154ad019",
            "0b15ffe638694a02ba24783b080e5abe",
            "6d38b890421449a8a479f35f3588b324",
            "53811a05f28a43b4a145c502af2ebcca",
            "437320ae07ee40af955c83f801d3a2bd",
            "36a73b70d5fe4b0cabc3a8497fa0bc55"
          ]
        },
        "id": "f94feb9b",
        "outputId": "e3e682f5-3011-46ec-acab-db1dc0e54d13"
      },
      "source": [
        "#Taking the dataset directly from torchvision\n",
        "\n",
        "train_data = torchvision.datasets.FashionMNIST(\"./data\", download=True, transform=\n",
        "                                                transforms.Compose([transforms.ToTensor()]))\n",
        "\n",
        "test_data = torchvision.datasets.FashionMNIST(\"./data\", download=True, train=False, transform=\n",
        "                                               transforms.Compose([transforms.ToTensor()]))  \n"
      ],
      "id": "f94feb9b",
      "execution_count": 3,
      "outputs": []
    },
    {
      "cell_type": "code",
      "metadata": {
        "ExecuteTime": {
          "end_time": "2021-05-31T14:19:49.443422Z",
          "start_time": "2021-05-31T14:19:49.429454Z"
        },
        "colab": {
          "base_uri": "https://localhost:8080/"
        },
        "id": "d82d6b52",
        "outputId": "64c2af2e-b7c4-45b6-8e51-74f14feffe3f"
      },
      "source": [
        "#create trainloader and testloader\n",
        "trainloader =  torch.utils.data.DataLoader(train_data, batch_size=64, shuffle=True)\n",
        "testloader =   torch.utils.data.DataLoader(test_data, batch_size=64, shuffle=False)\n",
        "\n",
        "trainloader"
      ],
      "id": "d82d6b52",
      "execution_count": 4,
      "outputs": [
        {
          "output_type": "execute_result",
          "data": {
            "text/plain": [
              "<torch.utils.data.dataloader.DataLoader at 0x7fdad4692cd0>"
            ]
          },
          "metadata": {},
          "execution_count": 4
        }
      ]
    },
    {
      "cell_type": "code",
      "metadata": {
        "ExecuteTime": {
          "end_time": "2021-05-31T14:19:49.458572Z",
          "start_time": "2021-05-31T14:19:49.444414Z"
        },
        "id": "ca7faf3b"
      },
      "source": [
        "# get better understanding\n",
        "\n",
        "# def imshow(image, ax=None, title=None, normalize=True):\n",
        "#     \"\"\"Imshow for Tensor.\"\"\"\n",
        "#     if ax is None:\n",
        "#         fig, ax = plt.subplots()\n",
        "#     image = image.numpy().transpose((1, 2, 0))\n",
        "\n",
        "#     if normalize:\n",
        "#         mean = np.array([0.485, 0.456, 0.406])\n",
        "#         std = np.array([0.229, 0.224, 0.225])\n",
        "#         image = std * image + mean\n",
        "#         image = np.clip(image, 0, 1)\n",
        "\n",
        "#     ax.imshow(image)\n",
        "#     ax.spines['top'].set_visible(False)\n",
        "#     ax.spines['right'].set_visible(False)\n",
        "#     ax.spines['left'].set_visible(False)\n",
        "#     ax.spines['bottom'].set_visible(False)\n",
        "#     ax.tick_params(axis='both', length=0)\n",
        "#     ax.set_xticklabels('')\n",
        "#     ax.set_yticklabels('')\n",
        "\n",
        "#     return ax\n",
        "\n",
        "# Run this to test your data loaders\n",
        "# images, labels = next(iter(trainloader))\n",
        "# print(images, labels)\n",
        "# imshow(images[1], normalize=False)\n",
        "# imshow(images[2], normalize=False)\n"
      ],
      "id": "ca7faf3b",
      "execution_count": 5,
      "outputs": []
    },
    {
      "cell_type": "code",
      "metadata": {
        "ExecuteTime": {
          "end_time": "2021-05-31T14:19:49.600590Z",
          "start_time": "2021-05-31T14:19:49.461575Z"
        },
        "colab": {
          "base_uri": "https://localhost:8080/",
          "height": 300
        },
        "id": "0444e474",
        "outputId": "32d1a10a-a573-4ad2-cd3b-240ecc92aaa4"
      },
      "source": [
        "#alternative way to show single image but with less code\n",
        "image, label = next(iter(train_data))\n",
        "plt.imshow(image.squeeze(), cmap=\"gray\")\n",
        "print('labels of this image is: ', label)\n",
        "\n",
        "image,label=train_data[0]\n",
        "print(image.shape)\n",
        "\n",
        "#output shape is 1 which means its a grayscale"
      ],
      "id": "0444e474",
      "execution_count": 6,
      "outputs": [
        {
          "output_type": "stream",
          "name": "stdout",
          "text": [
            "labels of this image is:  9\ntorch.Size([1, 28, 28])\n"
          ]
        },
        {
          "output_type": "display_data",
          "data": {
            "text/plain": "<Figure size 432x288 with 1 Axes>",
            "image/svg+xml": "<?xml version=\"1.0\" encoding=\"utf-8\" standalone=\"no\"?>\n<!DOCTYPE svg PUBLIC \"-//W3C//DTD SVG 1.1//EN\"\n  \"http://www.w3.org/Graphics/SVG/1.1/DTD/svg11.dtd\">\n<!-- Created with matplotlib (https://matplotlib.org/) -->\n<svg height=\"248.518125pt\" version=\"1.1\" viewBox=\"0 0 251.565 248.518125\" width=\"251.565pt\" xmlns=\"http://www.w3.org/2000/svg\" xmlns:xlink=\"http://www.w3.org/1999/xlink\">\n <metadata>\n  <rdf:RDF xmlns:cc=\"http://creativecommons.org/ns#\" xmlns:dc=\"http://purl.org/dc/elements/1.1/\" xmlns:rdf=\"http://www.w3.org/1999/02/22-rdf-syntax-ns#\">\n   <cc:Work>\n    <dc:type rdf:resource=\"http://purl.org/dc/dcmitype/StillImage\"/>\n    <dc:date>2021-06-01T08:36:54.303470</dc:date>\n    <dc:format>image/svg+xml</dc:format>\n    <dc:creator>\n     <cc:Agent>\n      <dc:title>Matplotlib v3.3.4, https://matplotlib.org/</dc:title>\n     </cc:Agent>\n    </dc:creator>\n   </cc:Work>\n  </rdf:RDF>\n </metadata>\n <defs>\n  <style type=\"text/css\">*{stroke-linecap:butt;stroke-linejoin:round;}</style>\n </defs>\n <g id=\"figure_1\">\n  <g id=\"patch_1\">\n   <path d=\"M 0 248.518125 \nL 251.565 248.518125 \nL 251.565 0 \nL 0 0 \nz\n\" style=\"fill:none;\"/>\n  </g>\n  <g id=\"axes_1\">\n   <g id=\"patch_2\">\n    <path d=\"M 26.925 224.64 \nL 244.365 224.64 \nL 244.365 7.2 \nL 26.925 7.2 \nz\n\" style=\"fill:#ffffff;\"/>\n   </g>\n   <g clip-path=\"url(#p150e6145f7)\">\n    <image height=\"218\" id=\"image263709dc23\" transform=\"scale(1 -1)translate(0 -218)\" width=\"218\" x=\"26.925\" xlink:href=\"data:image/png;base64,\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\" y=\"-6.64\"/>\n   </g>\n   <g id=\"matplotlib.axis_1\">\n    <g id=\"xtick_1\">\n     <g id=\"line2d_1\">\n      <defs>\n       <path d=\"M 0 0 \nL 0 3.5 \n\" id=\"m2b47c371e5\" style=\"stroke:#000000;stroke-width:0.8;\"/>\n      </defs>\n      <g>\n       <use style=\"stroke:#000000;stroke-width:0.8;\" x=\"30.807857\" xlink:href=\"#m2b47c371e5\" y=\"224.64\"/>\n      </g>\n     </g>\n     <g id=\"text_1\">\n      <!-- 0 -->\n      <g transform=\"translate(27.626607 239.238437)scale(0.1 -0.1)\">\n       <defs>\n        <path d=\"M 31.78125 66.40625 \nQ 24.171875 66.40625 20.328125 58.90625 \nQ 16.5 51.421875 16.5 36.375 \nQ 16.5 21.390625 20.328125 13.890625 \nQ 24.171875 6.390625 31.78125 6.390625 \nQ 39.453125 6.390625 43.28125 13.890625 \nQ 47.125 21.390625 47.125 36.375 \nQ 47.125 51.421875 43.28125 58.90625 \nQ 39.453125 66.40625 31.78125 66.40625 \nz\nM 31.78125 74.21875 \nQ 44.046875 74.21875 50.515625 64.515625 \nQ 56.984375 54.828125 56.984375 36.375 \nQ 56.984375 17.96875 50.515625 8.265625 \nQ 44.046875 -1.421875 31.78125 -1.421875 \nQ 19.53125 -1.421875 13.0625 8.265625 \nQ 6.59375 17.96875 6.59375 36.375 \nQ 6.59375 54.828125 13.0625 64.515625 \nQ 19.53125 74.21875 31.78125 74.21875 \nz\n\" id=\"DejaVuSans-48\"/>\n       </defs>\n       <use xlink:href=\"#DejaVuSans-48\"/>\n      </g>\n     </g>\n    </g>\n    <g id=\"xtick_2\">\n     <g id=\"line2d_2\">\n      <g>\n       <use style=\"stroke:#000000;stroke-width:0.8;\" x=\"69.636429\" xlink:href=\"#m2b47c371e5\" y=\"224.64\"/>\n      </g>\n     </g>\n     <g id=\"text_2\">\n      <!-- 5 -->\n      <g transform=\"translate(66.455179 239.238437)scale(0.1 -0.1)\">\n       <defs>\n        <path d=\"M 10.796875 72.90625 \nL 49.515625 72.90625 \nL 49.515625 64.59375 \nL 19.828125 64.59375 \nL 19.828125 46.734375 \nQ 21.96875 47.46875 24.109375 47.828125 \nQ 26.265625 48.1875 28.421875 48.1875 \nQ 40.625 48.1875 47.75 41.5 \nQ 54.890625 34.8125 54.890625 23.390625 \nQ 54.890625 11.625 47.5625 5.09375 \nQ 40.234375 -1.421875 26.90625 -1.421875 \nQ 22.3125 -1.421875 17.546875 -0.640625 \nQ 12.796875 0.140625 7.71875 1.703125 \nL 7.71875 11.625 \nQ 12.109375 9.234375 16.796875 8.0625 \nQ 21.484375 6.890625 26.703125 6.890625 \nQ 35.15625 6.890625 40.078125 11.328125 \nQ 45.015625 15.765625 45.015625 23.390625 \nQ 45.015625 31 40.078125 35.4375 \nQ 35.15625 39.890625 26.703125 39.890625 \nQ 22.75 39.890625 18.8125 39.015625 \nQ 14.890625 38.140625 10.796875 36.28125 \nz\n\" id=\"DejaVuSans-53\"/>\n       </defs>\n       <use xlink:href=\"#DejaVuSans-53\"/>\n      </g>\n     </g>\n    </g>\n    <g id=\"xtick_3\">\n     <g id=\"line2d_3\">\n      <g>\n       <use style=\"stroke:#000000;stroke-width:0.8;\" x=\"108.465\" xlink:href=\"#m2b47c371e5\" y=\"224.64\"/>\n      </g>\n     </g>\n     <g id=\"text_3\">\n      <!-- 10 -->\n      <g transform=\"translate(102.1025 239.238437)scale(0.1 -0.1)\">\n       <defs>\n        <path d=\"M 12.40625 8.296875 \nL 28.515625 8.296875 \nL 28.515625 63.921875 \nL 10.984375 60.40625 \nL 10.984375 69.390625 \nL 28.421875 72.90625 \nL 38.28125 72.90625 \nL 38.28125 8.296875 \nL 54.390625 8.296875 \nL 54.390625 0 \nL 12.40625 0 \nz\n\" id=\"DejaVuSans-49\"/>\n       </defs>\n       <use xlink:href=\"#DejaVuSans-49\"/>\n       <use x=\"63.623047\" xlink:href=\"#DejaVuSans-48\"/>\n      </g>\n     </g>\n    </g>\n    <g id=\"xtick_4\">\n     <g id=\"line2d_4\">\n      <g>\n       <use style=\"stroke:#000000;stroke-width:0.8;\" x=\"147.293571\" xlink:href=\"#m2b47c371e5\" y=\"224.64\"/>\n      </g>\n     </g>\n     <g id=\"text_4\">\n      <!-- 15 -->\n      <g transform=\"translate(140.931071 239.238437)scale(0.1 -0.1)\">\n       <use xlink:href=\"#DejaVuSans-49\"/>\n       <use x=\"63.623047\" xlink:href=\"#DejaVuSans-53\"/>\n      </g>\n     </g>\n    </g>\n    <g id=\"xtick_5\">\n     <g id=\"line2d_5\">\n      <g>\n       <use style=\"stroke:#000000;stroke-width:0.8;\" x=\"186.122143\" xlink:href=\"#m2b47c371e5\" y=\"224.64\"/>\n      </g>\n     </g>\n     <g id=\"text_5\">\n      <!-- 20 -->\n      <g transform=\"translate(179.759643 239.238437)scale(0.1 -0.1)\">\n       <defs>\n        <path d=\"M 19.1875 8.296875 \nL 53.609375 8.296875 \nL 53.609375 0 \nL 7.328125 0 \nL 7.328125 8.296875 \nQ 12.9375 14.109375 22.625 23.890625 \nQ 32.328125 33.6875 34.8125 36.53125 \nQ 39.546875 41.84375 41.421875 45.53125 \nQ 43.3125 49.21875 43.3125 52.78125 \nQ 43.3125 58.59375 39.234375 62.25 \nQ 35.15625 65.921875 28.609375 65.921875 \nQ 23.96875 65.921875 18.8125 64.3125 \nQ 13.671875 62.703125 7.8125 59.421875 \nL 7.8125 69.390625 \nQ 13.765625 71.78125 18.9375 73 \nQ 24.125 74.21875 28.421875 74.21875 \nQ 39.75 74.21875 46.484375 68.546875 \nQ 53.21875 62.890625 53.21875 53.421875 \nQ 53.21875 48.921875 51.53125 44.890625 \nQ 49.859375 40.875 45.40625 35.40625 \nQ 44.1875 33.984375 37.640625 27.21875 \nQ 31.109375 20.453125 19.1875 8.296875 \nz\n\" id=\"DejaVuSans-50\"/>\n       </defs>\n       <use xlink:href=\"#DejaVuSans-50\"/>\n       <use x=\"63.623047\" xlink:href=\"#DejaVuSans-48\"/>\n      </g>\n     </g>\n    </g>\n    <g id=\"xtick_6\">\n     <g id=\"line2d_6\">\n      <g>\n       <use style=\"stroke:#000000;stroke-width:0.8;\" x=\"224.950714\" xlink:href=\"#m2b47c371e5\" y=\"224.64\"/>\n      </g>\n     </g>\n     <g id=\"text_6\">\n      <!-- 25 -->\n      <g transform=\"translate(218.588214 239.238437)scale(0.1 -0.1)\">\n       <use xlink:href=\"#DejaVuSans-50\"/>\n       <use x=\"63.623047\" xlink:href=\"#DejaVuSans-53\"/>\n      </g>\n     </g>\n    </g>\n   </g>\n   <g id=\"matplotlib.axis_2\">\n    <g id=\"ytick_1\">\n     <g id=\"line2d_7\">\n      <defs>\n       <path d=\"M 0 0 \nL -3.5 0 \n\" id=\"me1d8c88950\" style=\"stroke:#000000;stroke-width:0.8;\"/>\n      </defs>\n      <g>\n       <use style=\"stroke:#000000;stroke-width:0.8;\" x=\"26.925\" xlink:href=\"#me1d8c88950\" y=\"11.082857\"/>\n      </g>\n     </g>\n     <g id=\"text_7\">\n      <!-- 0 -->\n      <g transform=\"translate(13.5625 14.882076)scale(0.1 -0.1)\">\n       <use xlink:href=\"#DejaVuSans-48\"/>\n      </g>\n     </g>\n    </g>\n    <g id=\"ytick_2\">\n     <g id=\"line2d_8\">\n      <g>\n       <use style=\"stroke:#000000;stroke-width:0.8;\" x=\"26.925\" xlink:href=\"#me1d8c88950\" y=\"49.911429\"/>\n      </g>\n     </g>\n     <g id=\"text_8\">\n      <!-- 5 -->\n      <g transform=\"translate(13.5625 53.710647)scale(0.1 -0.1)\">\n       <use xlink:href=\"#DejaVuSans-53\"/>\n      </g>\n     </g>\n    </g>\n    <g id=\"ytick_3\">\n     <g id=\"line2d_9\">\n      <g>\n       <use style=\"stroke:#000000;stroke-width:0.8;\" x=\"26.925\" xlink:href=\"#me1d8c88950\" y=\"88.74\"/>\n      </g>\n     </g>\n     <g id=\"text_9\">\n      <!-- 10 -->\n      <g transform=\"translate(7.2 92.539219)scale(0.1 -0.1)\">\n       <use xlink:href=\"#DejaVuSans-49\"/>\n       <use x=\"63.623047\" xlink:href=\"#DejaVuSans-48\"/>\n      </g>\n     </g>\n    </g>\n    <g id=\"ytick_4\">\n     <g id=\"line2d_10\">\n      <g>\n       <use style=\"stroke:#000000;stroke-width:0.8;\" x=\"26.925\" xlink:href=\"#me1d8c88950\" y=\"127.568571\"/>\n      </g>\n     </g>\n     <g id=\"text_10\">\n      <!-- 15 -->\n      <g transform=\"translate(7.2 131.36779)scale(0.1 -0.1)\">\n       <use xlink:href=\"#DejaVuSans-49\"/>\n       <use x=\"63.623047\" xlink:href=\"#DejaVuSans-53\"/>\n      </g>\n     </g>\n    </g>\n    <g id=\"ytick_5\">\n     <g id=\"line2d_11\">\n      <g>\n       <use style=\"stroke:#000000;stroke-width:0.8;\" x=\"26.925\" xlink:href=\"#me1d8c88950\" y=\"166.397143\"/>\n      </g>\n     </g>\n     <g id=\"text_11\">\n      <!-- 20 -->\n      <g transform=\"translate(7.2 170.196362)scale(0.1 -0.1)\">\n       <use xlink:href=\"#DejaVuSans-50\"/>\n       <use x=\"63.623047\" xlink:href=\"#DejaVuSans-48\"/>\n      </g>\n     </g>\n    </g>\n    <g id=\"ytick_6\">\n     <g id=\"line2d_12\">\n      <g>\n       <use style=\"stroke:#000000;stroke-width:0.8;\" x=\"26.925\" xlink:href=\"#me1d8c88950\" y=\"205.225714\"/>\n      </g>\n     </g>\n     <g id=\"text_12\">\n      <!-- 25 -->\n      <g transform=\"translate(7.2 209.024933)scale(0.1 -0.1)\">\n       <use xlink:href=\"#DejaVuSans-50\"/>\n       <use x=\"63.623047\" xlink:href=\"#DejaVuSans-53\"/>\n      </g>\n     </g>\n    </g>\n   </g>\n   <g id=\"patch_3\">\n    <path d=\"M 26.925 224.64 \nL 26.925 7.2 \n\" style=\"fill:none;stroke:#000000;stroke-linecap:square;stroke-linejoin:miter;stroke-width:0.8;\"/>\n   </g>\n   <g id=\"patch_4\">\n    <path d=\"M 244.365 224.64 \nL 244.365 7.2 \n\" style=\"fill:none;stroke:#000000;stroke-linecap:square;stroke-linejoin:miter;stroke-width:0.8;\"/>\n   </g>\n   <g id=\"patch_5\">\n    <path d=\"M 26.925 224.64 \nL 244.365 224.64 \n\" style=\"fill:none;stroke:#000000;stroke-linecap:square;stroke-linejoin:miter;stroke-width:0.8;\"/>\n   </g>\n   <g id=\"patch_6\">\n    <path d=\"M 26.925 7.2 \nL 244.365 7.2 \n\" style=\"fill:none;stroke:#000000;stroke-linecap:square;stroke-linejoin:miter;stroke-width:0.8;\"/>\n   </g>\n  </g>\n </g>\n <defs>\n  <clipPath id=\"p150e6145f7\">\n   <rect height=\"217.44\" width=\"217.44\" x=\"26.925\" y=\"7.2\"/>\n  </clipPath>\n </defs>\n</svg>\n",
            "image/png": "[encoded data removed]"
          },
          "metadata": {
            "needs_background": "light"
          }
        }
      ]
    },
    {
      "cell_type": "code",
      "metadata": {
        "ExecuteTime": {
          "end_time": "2021-05-31T14:19:49.775049Z",
          "start_time": "2021-05-31T14:19:49.605510Z"
        },
        "colab": {
          "base_uri": "https://localhost:8080/",
          "height": 138
        },
        "id": "41ee83a4",
        "outputId": "df6798a7-ce26-4c47-d3f3-5bc0be1722a8"
      },
      "source": [
        "#alternative code to show images but a grid of them\n",
        "def imshow(img):\n",
        "    img=img/2+0.5\n",
        "    npimg=img.numpy()\n",
        "    plt.imshow(np.transpose(npimg,(1,2,0)))\n",
        "    plt.show()\n",
        "    \n",
        "dataiter=iter(trainloader)\n",
        "images,labels=dataiter.next()\n",
        "\n",
        "imshow(torchvision.utils.make_grid(images))"
      ],
      "id": "41ee83a4",
      "execution_count": 7,
      "outputs": [
        {
          "output_type": "display_data",
          "data": {
            "text/plain": "<Figure size 432x288 with 1 Axes>",
            "image/svg+xml": "<?xml version=\"1.0\" encoding=\"utf-8\" standalone=\"no\"?>\n<!DOCTYPE svg PUBLIC \"-//W3C//DTD SVG 1.1//EN\"\n  \"http://www.w3.org/Graphics/SVG/1.1/DTD/svg11.dtd\">\n<!-- Created with matplotlib (https://matplotlib.org/) -->\n<svg height=\"251.868088pt\" version=\"1.1\" viewBox=\"0 0 257.9275 251.868088\" width=\"257.9275pt\" xmlns=\"http://www.w3.org/2000/svg\" xmlns:xlink=\"http://www.w3.org/1999/xlink\">\n <metadata>\n  <rdf:RDF xmlns:cc=\"http://creativecommons.org/ns#\" xmlns:dc=\"http://purl.org/dc/elements/1.1/\" xmlns:rdf=\"http://www.w3.org/1999/02/22-rdf-syntax-ns#\">\n   <cc:Work>\n    <dc:type rdf:resource=\"http://purl.org/dc/dcmitype/StillImage\"/>\n    <dc:date>2021-06-01T08:36:54.948493</dc:date>\n    <dc:format>image/svg+xml</dc:format>\n    <dc:creator>\n     <cc:Agent>\n      <dc:title>Matplotlib v3.3.4, https://matplotlib.org/</dc:title>\n     </cc:Agent>\n    </dc:creator>\n   </cc:Work>\n  </rdf:RDF>\n </metadata>\n <defs>\n  <style type=\"text/css\">*{stroke-linecap:butt;stroke-linejoin:round;}</style>\n </defs>\n <g id=\"figure_1\">\n  <g id=\"patch_1\">\n   <path d=\"M 0 251.868088 \nL 257.9275 251.868088 \nL 257.9275 0 \nL 0 0 \nz\n\" style=\"fill:none;\"/>\n  </g>\n  <g id=\"axes_1\">\n   <g id=\"patch_2\">\n    <path d=\"M 33.2875 227.989963 \nL 250.7275 227.989963 \nL 250.7275 10.549963 \nL 33.2875 10.549963 \nz\n\" style=\"fill:#ffffff;\"/>\n   </g>\n   <g clip-path=\"url(#p43c695d9d1)\">\n    <image height=\"218\" id=\"image1600806f65\" transform=\"scale(1 -1)translate(0 -218)\" width=\"218\" x=\"33.2875\" xlink:href=\"data:image/png;base64,\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\" y=\"-9.989963\"/>\n   </g>\n   <g id=\"matplotlib.axis_1\">\n    <g id=\"xtick_1\">\n     <g id=\"line2d_1\">\n      <defs>\n       <path d=\"M 0 0 \nL 0 3.5 \n\" id=\"md13e5e7e84\" style=\"stroke:#000000;stroke-width:0.8;\"/>\n      </defs>\n      <g>\n       <use style=\"stroke:#000000;stroke-width:0.8;\" x=\"33.736756\" xlink:href=\"#md13e5e7e84\" y=\"227.989963\"/>\n      </g>\n     </g>\n     <g id=\"text_1\">\n      <!-- 0 -->\n      <g transform=\"translate(30.555506 242.5884)scale(0.1 -0.1)\">\n       <defs>\n        <path d=\"M 31.78125 66.40625 \nQ 24.171875 66.40625 20.328125 58.90625 \nQ 16.5 51.421875 16.5 36.375 \nQ 16.5 21.390625 20.328125 13.890625 \nQ 24.171875 6.390625 31.78125 6.390625 \nQ 39.453125 6.390625 43.28125 13.890625 \nQ 47.125 21.390625 47.125 36.375 \nQ 47.125 51.421875 43.28125 58.90625 \nQ 39.453125 66.40625 31.78125 66.40625 \nz\nM 31.78125 74.21875 \nQ 44.046875 74.21875 50.515625 64.515625 \nQ 56.984375 54.828125 56.984375 36.375 \nQ 56.984375 17.96875 50.515625 8.265625 \nQ 44.046875 -1.421875 31.78125 -1.421875 \nQ 19.53125 -1.421875 13.0625 8.265625 \nQ 6.59375 17.96875 6.59375 36.375 \nQ 6.59375 54.828125 13.0625 64.515625 \nQ 19.53125 74.21875 31.78125 74.21875 \nz\n\" id=\"DejaVuSans-48\"/>\n       </defs>\n       <use xlink:href=\"#DejaVuSans-48\"/>\n      </g>\n     </g>\n    </g>\n    <g id=\"xtick_2\">\n     <g id=\"line2d_2\">\n      <g>\n       <use style=\"stroke:#000000;stroke-width:0.8;\" x=\"78.662376\" xlink:href=\"#md13e5e7e84\" y=\"227.989963\"/>\n      </g>\n     </g>\n     <g id=\"text_2\">\n      <!-- 50 -->\n      <g transform=\"translate(72.299876 242.5884)scale(0.1 -0.1)\">\n       <defs>\n        <path d=\"M 10.796875 72.90625 \nL 49.515625 72.90625 \nL 49.515625 64.59375 \nL 19.828125 64.59375 \nL 19.828125 46.734375 \nQ 21.96875 47.46875 24.109375 47.828125 \nQ 26.265625 48.1875 28.421875 48.1875 \nQ 40.625 48.1875 47.75 41.5 \nQ 54.890625 34.8125 54.890625 23.390625 \nQ 54.890625 11.625 47.5625 5.09375 \nQ 40.234375 -1.421875 26.90625 -1.421875 \nQ 22.3125 -1.421875 17.546875 -0.640625 \nQ 12.796875 0.140625 7.71875 1.703125 \nL 7.71875 11.625 \nQ 12.109375 9.234375 16.796875 8.0625 \nQ 21.484375 6.890625 26.703125 6.890625 \nQ 35.15625 6.890625 40.078125 11.328125 \nQ 45.015625 15.765625 45.015625 23.390625 \nQ 45.015625 31 40.078125 35.4375 \nQ 35.15625 39.890625 26.703125 39.890625 \nQ 22.75 39.890625 18.8125 39.015625 \nQ 14.890625 38.140625 10.796875 36.28125 \nz\n\" id=\"DejaVuSans-53\"/>\n       </defs>\n       <use xlink:href=\"#DejaVuSans-53\"/>\n       <use x=\"63.623047\" xlink:href=\"#DejaVuSans-48\"/>\n      </g>\n     </g>\n    </g>\n    <g id=\"xtick_3\">\n     <g id=\"line2d_3\">\n      <g>\n       <use style=\"stroke:#000000;stroke-width:0.8;\" x=\"123.587996\" xlink:href=\"#md13e5e7e84\" y=\"227.989963\"/>\n      </g>\n     </g>\n     <g id=\"text_3\">\n      <!-- 100 -->\n      <g transform=\"translate(114.044246 242.5884)scale(0.1 -0.1)\">\n       <defs>\n        <path d=\"M 12.40625 8.296875 \nL 28.515625 8.296875 \nL 28.515625 63.921875 \nL 10.984375 60.40625 \nL 10.984375 69.390625 \nL 28.421875 72.90625 \nL 38.28125 72.90625 \nL 38.28125 8.296875 \nL 54.390625 8.296875 \nL 54.390625 0 \nL 12.40625 0 \nz\n\" id=\"DejaVuSans-49\"/>\n       </defs>\n       <use xlink:href=\"#DejaVuSans-49\"/>\n       <use x=\"63.623047\" xlink:href=\"#DejaVuSans-48\"/>\n       <use x=\"127.246094\" xlink:href=\"#DejaVuSans-48\"/>\n      </g>\n     </g>\n    </g>\n    <g id=\"xtick_4\">\n     <g id=\"line2d_4\">\n      <g>\n       <use style=\"stroke:#000000;stroke-width:0.8;\" x=\"168.513616\" xlink:href=\"#md13e5e7e84\" y=\"227.989963\"/>\n      </g>\n     </g>\n     <g id=\"text_4\">\n      <!-- 150 -->\n      <g transform=\"translate(158.969866 242.5884)scale(0.1 -0.1)\">\n       <use xlink:href=\"#DejaVuSans-49\"/>\n       <use x=\"63.623047\" xlink:href=\"#DejaVuSans-53\"/>\n       <use x=\"127.246094\" xlink:href=\"#DejaVuSans-48\"/>\n      </g>\n     </g>\n    </g>\n    <g id=\"xtick_5\">\n     <g id=\"line2d_5\">\n      <g>\n       <use style=\"stroke:#000000;stroke-width:0.8;\" x=\"213.439236\" xlink:href=\"#md13e5e7e84\" y=\"227.989963\"/>\n      </g>\n     </g>\n     <g id=\"text_5\">\n      <!-- 200 -->\n      <g transform=\"translate(203.895486 242.5884)scale(0.1 -0.1)\">\n       <defs>\n        <path d=\"M 19.1875 8.296875 \nL 53.609375 8.296875 \nL 53.609375 0 \nL 7.328125 0 \nL 7.328125 8.296875 \nQ 12.9375 14.109375 22.625 23.890625 \nQ 32.328125 33.6875 34.8125 36.53125 \nQ 39.546875 41.84375 41.421875 45.53125 \nQ 43.3125 49.21875 43.3125 52.78125 \nQ 43.3125 58.59375 39.234375 62.25 \nQ 35.15625 65.921875 28.609375 65.921875 \nQ 23.96875 65.921875 18.8125 64.3125 \nQ 13.671875 62.703125 7.8125 59.421875 \nL 7.8125 69.390625 \nQ 13.765625 71.78125 18.9375 73 \nQ 24.125 74.21875 28.421875 74.21875 \nQ 39.75 74.21875 46.484375 68.546875 \nQ 53.21875 62.890625 53.21875 53.421875 \nQ 53.21875 48.921875 51.53125 44.890625 \nQ 49.859375 40.875 45.40625 35.40625 \nQ 44.1875 33.984375 37.640625 27.21875 \nQ 31.109375 20.453125 19.1875 8.296875 \nz\n\" id=\"DejaVuSans-50\"/>\n       </defs>\n       <use xlink:href=\"#DejaVuSans-50\"/>\n       <use x=\"63.623047\" xlink:href=\"#DejaVuSans-48\"/>\n       <use x=\"127.246094\" xlink:href=\"#DejaVuSans-48\"/>\n      </g>\n     </g>\n    </g>\n   </g>\n   <g id=\"matplotlib.axis_2\">\n    <g id=\"ytick_1\">\n     <g id=\"line2d_6\">\n      <defs>\n       <path d=\"M 0 0 \nL -3.5 0 \n\" id=\"m3f224f27c9\" style=\"stroke:#000000;stroke-width:0.8;\"/>\n      </defs>\n      <g>\n       <use style=\"stroke:#000000;stroke-width:0.8;\" x=\"33.2875\" xlink:href=\"#m3f224f27c9\" y=\"10.999219\"/>\n      </g>\n     </g>\n     <g id=\"text_6\">\n      <!-- 0 -->\n      <g transform=\"translate(19.925 14.798438)scale(0.1 -0.1)\">\n       <use xlink:href=\"#DejaVuSans-48\"/>\n      </g>\n     </g>\n    </g>\n    <g id=\"ytick_2\">\n     <g id=\"line2d_7\">\n      <g>\n       <use style=\"stroke:#000000;stroke-width:0.8;\" x=\"33.2875\" xlink:href=\"#m3f224f27c9\" y=\"55.924839\"/>\n      </g>\n     </g>\n     <g id=\"text_7\">\n      <!-- 50 -->\n      <g transform=\"translate(13.5625 59.724057)scale(0.1 -0.1)\">\n       <use xlink:href=\"#DejaVuSans-53\"/>\n       <use x=\"63.623047\" xlink:href=\"#DejaVuSans-48\"/>\n      </g>\n     </g>\n    </g>\n    <g id=\"ytick_3\">\n     <g id=\"line2d_8\">\n      <g>\n       <use style=\"stroke:#000000;stroke-width:0.8;\" x=\"33.2875\" xlink:href=\"#m3f224f27c9\" y=\"100.850458\"/>\n      </g>\n     </g>\n     <g id=\"text_8\">\n      <!-- 100 -->\n      <g transform=\"translate(7.2 104.649677)scale(0.1 -0.1)\">\n       <use xlink:href=\"#DejaVuSans-49\"/>\n       <use x=\"63.623047\" xlink:href=\"#DejaVuSans-48\"/>\n       <use x=\"127.246094\" xlink:href=\"#DejaVuSans-48\"/>\n      </g>\n     </g>\n    </g>\n    <g id=\"ytick_4\">\n     <g id=\"line2d_9\">\n      <g>\n       <use style=\"stroke:#000000;stroke-width:0.8;\" x=\"33.2875\" xlink:href=\"#m3f224f27c9\" y=\"145.776078\"/>\n      </g>\n     </g>\n     <g id=\"text_9\">\n      <!-- 150 -->\n      <g transform=\"translate(7.2 149.575297)scale(0.1 -0.1)\">\n       <use xlink:href=\"#DejaVuSans-49\"/>\n       <use x=\"63.623047\" xlink:href=\"#DejaVuSans-53\"/>\n       <use x=\"127.246094\" xlink:href=\"#DejaVuSans-48\"/>\n      </g>\n     </g>\n    </g>\n    <g id=\"ytick_5\">\n     <g id=\"line2d_10\">\n      <g>\n       <use style=\"stroke:#000000;stroke-width:0.8;\" x=\"33.2875\" xlink:href=\"#m3f224f27c9\" y=\"190.701698\"/>\n      </g>\n     </g>\n     <g id=\"text_10\">\n      <!-- 200 -->\n      <g transform=\"translate(7.2 194.500917)scale(0.1 -0.1)\">\n       <use xlink:href=\"#DejaVuSans-50\"/>\n       <use x=\"63.623047\" xlink:href=\"#DejaVuSans-48\"/>\n       <use x=\"127.246094\" xlink:href=\"#DejaVuSans-48\"/>\n      </g>\n     </g>\n    </g>\n   </g>\n   <g id=\"patch_3\">\n    <path d=\"M 33.2875 227.989963 \nL 33.2875 10.549963 \n\" style=\"fill:none;stroke:#000000;stroke-linecap:square;stroke-linejoin:miter;stroke-width:0.8;\"/>\n   </g>\n   <g id=\"patch_4\">\n    <path d=\"M 250.7275 227.989963 \nL 250.7275 10.549963 \n\" style=\"fill:none;stroke:#000000;stroke-linecap:square;stroke-linejoin:miter;stroke-width:0.8;\"/>\n   </g>\n   <g id=\"patch_5\">\n    <path d=\"M 33.2875 227.989963 \nL 250.7275 227.989963 \n\" style=\"fill:none;stroke:#000000;stroke-linecap:square;stroke-linejoin:miter;stroke-width:0.8;\"/>\n   </g>\n   <g id=\"patch_6\">\n    <path d=\"M 33.2875 10.549963 \nL 250.7275 10.549963 \n\" style=\"fill:none;stroke:#000000;stroke-linecap:square;stroke-linejoin:miter;stroke-width:0.8;\"/>\n   </g>\n  </g>\n </g>\n <defs>\n  <clipPath id=\"p43c695d9d1\">\n   <rect height=\"217.44\" width=\"217.44\" x=\"33.2875\" y=\"10.549963\"/>\n  </clipPath>\n </defs>\n</svg>\n",
            "image/png": "[encoded data removed]"
          },
          "metadata": {
            "needs_background": "light"
          }
        }
      ]
    },
    {
      "cell_type": "code",
      "metadata": {
        "ExecuteTime": {
          "end_time": "2021-05-31T14:19:49.791006Z",
          "start_time": "2021-05-31T14:19:49.782046Z"
        },
        "id": "ebf8e5a2"
      },
      "source": [
        "# #This is a sequential API approach, creating a class would be \n",
        "\n",
        "# model = nn.Sequential(\n",
        "#     #First COnv2d\n",
        "#     nn.Conv2d(1, 32, kernel_size=3, stride=1, padding=1),\n",
        "#     # ((28 - 3(kernel size) + 2 * 1(padding))/ s (stride)) + 1\n",
        "#     # the dimension of the image after first conv2d is  28*28\n",
        "#     nn.ReLU(),\n",
        "    \n",
        "#     nn.MaxPool2d(2, 2),\n",
        "#     # after this the dimension of the image would be  14*14\n",
        "\n",
        "#     #Second Conv2d\n",
        "#     nn.Conv2d(32, 64, kernel_size=3,stride=1,padding=1),\n",
        "#     nn.ReLU(),\n",
        "    \n",
        "#     nn.Flatten(),\n",
        "    \n",
        "#     #First venilla layer\n",
        "#     nn.Linear(64*14*14, 1024), #we can choose this 1024 neurons\n",
        "#     nn.ReLU(),\n",
        "    \n",
        "#     #second venilla layer\n",
        "#     nn.Linear(1024, 512),\n",
        "#     nn.ReLU(),\n",
        "    \n",
        "#     nn.Linear(512,10))"
      ],
      "id": "ebf8e5a2",
      "execution_count": 8,
      "outputs": []
    },
    {
      "cell_type": "code",
      "metadata": {
        "ExecuteTime": {
          "end_time": "2021-05-31T14:19:49.838906Z",
          "start_time": "2021-05-31T14:19:49.793004Z"
        },
        "colab": {
          "base_uri": "https://localhost:8080/"
        },
        "id": "b5a55554",
        "outputId": "c20b55ea-3779-43d8-8fb2-d448da58503f"
      },
      "source": [
        "# Class with sequential API\n",
        "\n",
        "class CNN(nn.Module):\n",
        "    \n",
        "    def __init__(self):\n",
        "        super(CNN, self).__init__()\n",
        "        \n",
        "        self.conv1 = nn.Sequential(\n",
        "            nn.Conv2d(in_channels=1, out_channels=32, kernel_size=3),\n",
        "            nn.ReLU(),\n",
        "            # nn.MaxPool2d(kernel_size=2, stride=2)\n",
        "        )\n",
        "        \n",
        "        self.conv2 = nn.Sequential(\n",
        "            nn.Conv2d(in_channels=32, out_channels=64, kernel_size=3),\n",
        "            nn.ReLU(),\n",
        "            # nn.MaxPool2d(kernel_size=2, stride=2)\n",
        "        )\n",
        "        \n",
        "        self.fc1 = nn.Linear(in_features=64*24*24, out_features=1024)\n",
        "        #self.drop = nn.Dropout2d(0.25)\n",
        "        self.fc2 = nn.Linear(in_features=1024, out_features=512)\n",
        "        self.fc3 = nn.Linear(in_features=512, out_features=10)\n",
        "        \n",
        "        \n",
        "    def forward(self, x):\n",
        "        #in forward function, we define how our data flows through these layers\n",
        "        out = self.conv1(x)\n",
        "        out = self.conv2(out)\n",
        "        out = out.reshape(out.size(0), -1)\n",
        "        #out = nn.Flatten()\n",
        "        #out = self.drop_out(out)\n",
        "        out = self.fc1(out)\n",
        "        out = F.relu(out)\n",
        "        out = self.fc2(out)\n",
        "        out = F.relu(out)\n",
        "        out = self.fc3(out)\n",
        "        out = F.log_softmax(out, dim=1)\n",
        "        return out\n",
        "\n",
        "model = CNN()\n",
        "model"
      ],
      "id": "b5a55554",
      "execution_count": 12,
      "outputs": [
        {
          "output_type": "execute_result",
          "data": {
            "text/plain": [
              "CNN(\n",
              "  (conv1): Sequential(\n",
              "    (0): Conv2d(1, 32, kernel_size=(3, 3), stride=(1, 1))\n",
              "    (1): ReLU()\n",
              "  )\n",
              "  (conv2): Sequential(\n",
              "    (0): Conv2d(32, 64, kernel_size=(3, 3), stride=(1, 1))\n",
              "    (1): ReLU()\n",
              "  )\n",
              "  (fc1): Linear(in_features=36864, out_features=1024, bias=True)\n",
              "  (fc2): Linear(in_features=1024, out_features=512, bias=True)\n",
              "  (fc3): Linear(in_features=512, out_features=10, bias=True)\n",
              ")"
            ]
          },
          "metadata": {},
          "execution_count": 12
        }
      ]
    },
    {
      "cell_type": "code",
      "metadata": {
        "ExecuteTime": {
          "end_time": "2021-05-31T14:19:49.918690Z",
          "start_time": "2021-05-31T14:19:49.847883Z"
        },
        "scrolled": true,
        "colab": {
          "base_uri": "https://localhost:8080/"
        },
        "id": "bb70f375",
        "outputId": "2a98d465-c935-4865-fb18-806414439934"
      },
      "source": [
        "#define the optimizer and the loss\n",
        "optimizer = optim.SGD(model.parameters(), lr=0.001, momentum=0.9)\n",
        "criterion = nn.NLLLoss()\n",
        "\n",
        "print('Initial weights - ', model.fc1.weight)\n",
        "\n",
        "images, labels = next(iter(trainloader))\n",
        "\n",
        "# Clear the gradients, do this because gradients are accumulated\n",
        "optimizer.zero_grad()\n",
        "\n",
        "# Forward pass, then backward pass, then update weights\n",
        "output = model.forward(images)\n",
        "loss = criterion(output, labels)\n",
        "loss.backward()\n",
        "\n",
        "print('Gradient -', model.fc1.weight.grad)\n",
        "optimizer.step()"
      ],
      "id": "bb70f375",
      "execution_count": 13,
      "outputs": [
        {
          "output_type": "stream",
          "name": "stdout",
          "text": [
            "Initial weights -  Parameter containing:\ntensor([[-4.4111e-03,  4.7446e-03, -2.2929e-03,  ...,  1.6850e-03,\n         -6.8010e-04,  2.6154e-03],\n        [ 4.4131e-03, -5.0214e-03, -5.3847e-04,  ..., -5.0852e-03,\n          2.5489e-03, -4.8053e-03],\n        [ 6.0443e-04,  3.4978e-03,  1.6665e-03,  ...,  9.4129e-04,\n          2.6198e-03,  1.5877e-03],\n        ...,\n        [ 3.4776e-03,  3.3302e-03,  1.2702e-03,  ..., -1.3402e-03,\n          1.5408e-03, -2.5534e-03],\n        [-1.1953e-03,  5.8825e-05, -4.1769e-03,  ..., -3.2908e-03,\n         -3.6780e-03,  4.3662e-03],\n        [ 2.0395e-03, -3.1133e-03,  1.9123e-03,  ..., -4.1081e-03,\n          2.9189e-03, -1.3779e-03]], requires_grad=True)\nGradient - tensor([[0., 0., 0.,  ..., 0., 0., 0.],\n        [0., 0., 0.,  ..., 0., 0., 0.],\n        [0., 0., 0.,  ..., 0., 0., 0.],\n        ...,\n        [0., 0., 0.,  ..., 0., 0., 0.],\n        [0., 0., 0.,  ..., 0., 0., 0.],\n        [0., 0., 0.,  ..., 0., 0., 0.]])\n"
          ]
        }
      ]
    },
    {
      "cell_type": "code",
      "metadata": {
        "ExecuteTime": {
          "start_time": "2021-05-31T14:34:10.512Z"
        },
        "colab": {
          "base_uri": "https://localhost:8080/"
        },
        "id": "ec01c41b",
        "outputId": "eab7dc7b-4106-444c-d8f6-7862b86e77ec"
      },
      "source": [
        "epochs = 3\n",
        "print_every = 40\n",
        "\n",
        "train_loss = []\n",
        "val_loss = []\n",
        "\n",
        "for e in range(epochs):\n",
        "    running_loss = 0\n",
        "    print(f\"Epoch: {e+1}/{epochs}\")\n",
        "\n",
        "    for i, (images, labels) in enumerate(iter(trainloader)):\n",
        "\n",
        "        # Flatten MNIST images into a 784 long vector\n",
        "        #images.resize_(images.size()[0], 784)\n",
        "        \n",
        "        optimizer.zero_grad()\n",
        "        \n",
        "        output = model.forward(images)   # 1) Forward pass\n",
        "        loss = criterion(output, labels) # 2) Compute loss\n",
        "        loss.backward()                  # 3) Backward pass\n",
        "        optimizer.step()                 # 4) Update model\n",
        "        \n",
        "        running_loss += loss.item()\n",
        "        \n",
        "        if i % print_every == 0:\n",
        "            print(f\"\\tIteration: {i}\\t Loss: {running_loss/print_every:.4f}\")\n",
        "            running_loss = 0\n",
        "    train_loss.append(running_loss/images.shape[0])\n",
        "\n",
        "    \n",
        "\n",
        "    correct = 0\n",
        "    total = 0\n",
        "    # since we're not training, we don't need to calculate the gradients for our outputs\n",
        "    with torch.no_grad():\n",
        "        for i, (images, labels) in enumerate(iter(testloader)):\n",
        "            #images, labels = data\n",
        "            # calculate outputs by running images through the network\n",
        "            #images = images.resize_(images.size()[0],  784)\n",
        "            outputs = model(images)\n",
        "            v_loss = criterion(outputs, labels)\n",
        "            # the class with the highest energy is what we choose as prediction\n",
        "            _, predicted = torch.max(outputs.data, 1)\n",
        "            total += labels.size(0)\n",
        "            correct += (predicted == labels).sum().item()\n",
        "        val_loss.append(v_loss/images.shape[0])\n",
        "\n",
        "    print('Accuracy of the network on the 10000 test images: %d %%' % (\n",
        "        100 * correct / total))"
      ],
      "id": "ec01c41b",
      "execution_count": 14,
      "outputs": [
        {
          "output_type": "stream",
          "name": "stdout",
          "text": [
            "Epoch: 1/3\n",
            "\tIteration: 0\t Loss: 0.0575\n",
            "\tIteration: 40\t Loss: 2.2974\n",
            "\tIteration: 80\t Loss: 2.2796\n",
            "\tIteration: 120\t Loss: 2.2506\n",
            "\tIteration: 160\t Loss: 2.1883\n",
            "\tIteration: 200\t Loss: 1.9901\n",
            "\tIteration: 240\t Loss: 1.4818\n",
            "\tIteration: 280\t Loss: 0.9826\n",
            "\tIteration: 320\t Loss: 0.8522\n",
            "\tIteration: 360\t Loss: 0.7949\n",
            "\tIteration: 400\t Loss: 0.7309\n",
            "\tIteration: 440\t Loss: 0.7164\n",
            "\tIteration: 480\t Loss: 0.7112\n",
            "\tIteration: 520\t Loss: 0.7063\n",
            "\tIteration: 560\t Loss: 0.6392\n",
            "\tIteration: 600\t Loss: 0.6336\n",
            "\tIteration: 640\t Loss: 0.6246\n",
            "\tIteration: 680\t Loss: 0.6221\n",
            "\tIteration: 720\t Loss: 0.5970\n",
            "\tIteration: 760\t Loss: 0.6396\n",
            "\tIteration: 800\t Loss: 0.5921\n",
            "\tIteration: 840\t Loss: 0.5760\n",
            "\tIteration: 880\t Loss: 0.5743\n",
            "\tIteration: 920\t Loss: 0.5644\n",
            "Accuracy of the network on the 10000 test images: 78 %\n",
            "Epoch: 2/3\n",
            "\tIteration: 0\t Loss: 0.0147\n",
            "\tIteration: 40\t Loss: 0.5747\n",
            "\tIteration: 80\t Loss: 0.5549\n",
            "\tIteration: 120\t Loss: 0.5570\n",
            "\tIteration: 160\t Loss: 0.5726\n",
            "\tIteration: 200\t Loss: 0.5571\n",
            "\tIteration: 240\t Loss: 0.5197\n",
            "\tIteration: 280\t Loss: 0.5264\n",
            "\tIteration: 320\t Loss: 0.5440\n",
            "\tIteration: 360\t Loss: 0.5239\n",
            "\tIteration: 400\t Loss: 0.5218\n",
            "\tIteration: 440\t Loss: 0.5356\n",
            "\tIteration: 480\t Loss: 0.4905\n",
            "\tIteration: 520\t Loss: 0.5136\n",
            "\tIteration: 560\t Loss: 0.5094\n",
            "\tIteration: 600\t Loss: 0.5353\n",
            "\tIteration: 640\t Loss: 0.5234\n",
            "\tIteration: 680\t Loss: 0.5032\n",
            "\tIteration: 720\t Loss: 0.4971\n",
            "\tIteration: 760\t Loss: 0.4965\n",
            "\tIteration: 800\t Loss: 0.4697\n",
            "\tIteration: 840\t Loss: 0.4649\n",
            "\tIteration: 880\t Loss: 0.4788\n",
            "\tIteration: 920\t Loss: 0.5219\n",
            "Accuracy of the network on the 10000 test images: 81 %\n",
            "Epoch: 3/3\n",
            "\tIteration: 0\t Loss: 0.0118\n",
            "\tIteration: 40\t Loss: 0.4717\n",
            "\tIteration: 80\t Loss: 0.5025\n",
            "\tIteration: 120\t Loss: 0.4599\n",
            "\tIteration: 160\t Loss: 0.4573\n",
            "\tIteration: 200\t Loss: 0.4560\n",
            "\tIteration: 240\t Loss: 0.4858\n",
            "\tIteration: 280\t Loss: 0.4452\n",
            "\tIteration: 320\t Loss: 0.4885\n",
            "\tIteration: 360\t Loss: 0.4664\n",
            "\tIteration: 400\t Loss: 0.4331\n",
            "\tIteration: 440\t Loss: 0.4525\n",
            "\tIteration: 480\t Loss: 0.4683\n",
            "\tIteration: 520\t Loss: 0.4520\n",
            "\tIteration: 560\t Loss: 0.4457\n",
            "\tIteration: 600\t Loss: 0.4611\n",
            "\tIteration: 640\t Loss: 0.4628\n",
            "\tIteration: 680\t Loss: 0.4196\n",
            "\tIteration: 720\t Loss: 0.4465\n",
            "\tIteration: 760\t Loss: 0.4403\n",
            "\tIteration: 800\t Loss: 0.4677\n",
            "\tIteration: 840\t Loss: 0.4589\n",
            "\tIteration: 880\t Loss: 0.4228\n",
            "\tIteration: 920\t Loss: 0.4289\n",
            "Accuracy of the network on the 10000 test images: 83 %\n"
          ]
        }
      ]
    },
    {
      "cell_type": "code",
      "execution_count": 17,
      "metadata": {},
      "outputs": [
        {
          "output_type": "stream",
          "name": "stdout",
          "text": [
            "3\n3\n"
          ]
        },
        {
          "output_type": "display_data",
          "data": {
            "text/plain": "<Figure size 432x288 with 1 Axes>",
            "image/svg+xml": "<?xml version=\"1.0\" encoding=\"utf-8\" standalone=\"no\"?>\n<!DOCTYPE svg PUBLIC \"-//W3C//DTD SVG 1.1//EN\"\n  \"http://www.w3.org/Graphics/SVG/1.1/DTD/svg11.dtd\">\n<!-- Created with matplotlib (https://matplotlib.org/) -->\n<svg height=\"248.518125pt\" version=\"1.1\" viewBox=\"0 0 378.465625 248.518125\" width=\"378.465625pt\" xmlns=\"http://www.w3.org/2000/svg\" xmlns:xlink=\"http://www.w3.org/1999/xlink\">\n <metadata>\n  <rdf:RDF xmlns:cc=\"http://creativecommons.org/ns#\" xmlns:dc=\"http://purl.org/dc/elements/1.1/\" xmlns:rdf=\"http://www.w3.org/1999/02/22-rdf-syntax-ns#\">\n   <cc:Work>\n    <dc:type rdf:resource=\"http://purl.org/dc/dcmitype/StillImage\"/>\n    <dc:date>2021-06-01T08:23:15.178534</dc:date>\n    <dc:format>image/svg+xml</dc:format>\n    <dc:creator>\n     <cc:Agent>\n      <dc:title>Matplotlib v3.3.4, https://matplotlib.org/</dc:title>\n     </cc:Agent>\n    </dc:creator>\n   </cc:Work>\n  </rdf:RDF>\n </metadata>\n <defs>\n  <style type=\"text/css\">*{stroke-linecap:butt;stroke-linejoin:round;}</style>\n </defs>\n <g id=\"figure_1\">\n  <g id=\"patch_1\">\n   <path d=\"M 0 248.518125 \nL 378.465625 248.518125 \nL 378.465625 0 \nL 0 0 \nz\n\" style=\"fill:none;\"/>\n  </g>\n  <g id=\"axes_1\">\n   <g id=\"patch_2\">\n    <path d=\"M 36.465625 224.64 \nL 371.265625 224.64 \nL 371.265625 7.2 \nL 36.465625 7.2 \nz\n\" style=\"fill:#ffffff;\"/>\n   </g>\n   <g id=\"matplotlib.axis_1\">\n    <g id=\"xtick_1\">\n     <g id=\"line2d_1\">\n      <defs>\n       <path d=\"M 0 0 \nL 0 3.5 \n\" id=\"m67df670a8b\" style=\"stroke:#000000;stroke-width:0.8;\"/>\n      </defs>\n      <g>\n       <use style=\"stroke:#000000;stroke-width:0.8;\" x=\"51.683807\" xlink:href=\"#m67df670a8b\" y=\"224.64\"/>\n      </g>\n     </g>\n     <g id=\"text_1\">\n      <!-- 0.00 -->\n      <g transform=\"translate(40.550994 239.238437)scale(0.1 -0.1)\">\n       <defs>\n        <path d=\"M 31.78125 66.40625 \nQ 24.171875 66.40625 20.328125 58.90625 \nQ 16.5 51.421875 16.5 36.375 \nQ 16.5 21.390625 20.328125 13.890625 \nQ 24.171875 6.390625 31.78125 6.390625 \nQ 39.453125 6.390625 43.28125 13.890625 \nQ 47.125 21.390625 47.125 36.375 \nQ 47.125 51.421875 43.28125 58.90625 \nQ 39.453125 66.40625 31.78125 66.40625 \nz\nM 31.78125 74.21875 \nQ 44.046875 74.21875 50.515625 64.515625 \nQ 56.984375 54.828125 56.984375 36.375 \nQ 56.984375 17.96875 50.515625 8.265625 \nQ 44.046875 -1.421875 31.78125 -1.421875 \nQ 19.53125 -1.421875 13.0625 8.265625 \nQ 6.59375 17.96875 6.59375 36.375 \nQ 6.59375 54.828125 13.0625 64.515625 \nQ 19.53125 74.21875 31.78125 74.21875 \nz\n\" id=\"DejaVuSans-48\"/>\n        <path d=\"M 10.6875 12.40625 \nL 21 12.40625 \nL 21 0 \nL 10.6875 0 \nz\n\" id=\"DejaVuSans-46\"/>\n       </defs>\n       <use xlink:href=\"#DejaVuSans-48\"/>\n       <use x=\"63.623047\" xlink:href=\"#DejaVuSans-46\"/>\n       <use x=\"95.410156\" xlink:href=\"#DejaVuSans-48\"/>\n       <use x=\"159.033203\" xlink:href=\"#DejaVuSans-48\"/>\n      </g>\n     </g>\n    </g>\n    <g id=\"xtick_2\">\n     <g id=\"line2d_2\">\n      <g>\n       <use style=\"stroke:#000000;stroke-width:0.8;\" x=\"89.729261\" xlink:href=\"#m67df670a8b\" y=\"224.64\"/>\n      </g>\n     </g>\n     <g id=\"text_2\">\n      <!-- 0.25 -->\n      <g transform=\"translate(78.596449 239.238437)scale(0.1 -0.1)\">\n       <defs>\n        <path d=\"M 19.1875 8.296875 \nL 53.609375 8.296875 \nL 53.609375 0 \nL 7.328125 0 \nL 7.328125 8.296875 \nQ 12.9375 14.109375 22.625 23.890625 \nQ 32.328125 33.6875 34.8125 36.53125 \nQ 39.546875 41.84375 41.421875 45.53125 \nQ 43.3125 49.21875 43.3125 52.78125 \nQ 43.3125 58.59375 39.234375 62.25 \nQ 35.15625 65.921875 28.609375 65.921875 \nQ 23.96875 65.921875 18.8125 64.3125 \nQ 13.671875 62.703125 7.8125 59.421875 \nL 7.8125 69.390625 \nQ 13.765625 71.78125 18.9375 73 \nQ 24.125 74.21875 28.421875 74.21875 \nQ 39.75 74.21875 46.484375 68.546875 \nQ 53.21875 62.890625 53.21875 53.421875 \nQ 53.21875 48.921875 51.53125 44.890625 \nQ 49.859375 40.875 45.40625 35.40625 \nQ 44.1875 33.984375 37.640625 27.21875 \nQ 31.109375 20.453125 19.1875 8.296875 \nz\n\" id=\"DejaVuSans-50\"/>\n        <path d=\"M 10.796875 72.90625 \nL 49.515625 72.90625 \nL 49.515625 64.59375 \nL 19.828125 64.59375 \nL 19.828125 46.734375 \nQ 21.96875 47.46875 24.109375 47.828125 \nQ 26.265625 48.1875 28.421875 48.1875 \nQ 40.625 48.1875 47.75 41.5 \nQ 54.890625 34.8125 54.890625 23.390625 \nQ 54.890625 11.625 47.5625 5.09375 \nQ 40.234375 -1.421875 26.90625 -1.421875 \nQ 22.3125 -1.421875 17.546875 -0.640625 \nQ 12.796875 0.140625 7.71875 1.703125 \nL 7.71875 11.625 \nQ 12.109375 9.234375 16.796875 8.0625 \nQ 21.484375 6.890625 26.703125 6.890625 \nQ 35.15625 6.890625 40.078125 11.328125 \nQ 45.015625 15.765625 45.015625 23.390625 \nQ 45.015625 31 40.078125 35.4375 \nQ 35.15625 39.890625 26.703125 39.890625 \nQ 22.75 39.890625 18.8125 39.015625 \nQ 14.890625 38.140625 10.796875 36.28125 \nz\n\" id=\"DejaVuSans-53\"/>\n       </defs>\n       <use xlink:href=\"#DejaVuSans-48\"/>\n       <use x=\"63.623047\" xlink:href=\"#DejaVuSans-46\"/>\n       <use x=\"95.410156\" xlink:href=\"#DejaVuSans-50\"/>\n       <use x=\"159.033203\" xlink:href=\"#DejaVuSans-53\"/>\n      </g>\n     </g>\n    </g>\n    <g id=\"xtick_3\">\n     <g id=\"line2d_3\">\n      <g>\n       <use style=\"stroke:#000000;stroke-width:0.8;\" x=\"127.774716\" xlink:href=\"#m67df670a8b\" y=\"224.64\"/>\n      </g>\n     </g>\n     <g id=\"text_3\">\n      <!-- 0.50 -->\n      <g transform=\"translate(116.641903 239.238437)scale(0.1 -0.1)\">\n       <use xlink:href=\"#DejaVuSans-48\"/>\n       <use x=\"63.623047\" xlink:href=\"#DejaVuSans-46\"/>\n       <use x=\"95.410156\" xlink:href=\"#DejaVuSans-53\"/>\n       <use x=\"159.033203\" xlink:href=\"#DejaVuSans-48\"/>\n      </g>\n     </g>\n    </g>\n    <g id=\"xtick_4\">\n     <g id=\"line2d_4\">\n      <g>\n       <use style=\"stroke:#000000;stroke-width:0.8;\" x=\"165.82017\" xlink:href=\"#m67df670a8b\" y=\"224.64\"/>\n      </g>\n     </g>\n     <g id=\"text_4\">\n      <!-- 0.75 -->\n      <g transform=\"translate(154.687358 239.238437)scale(0.1 -0.1)\">\n       <defs>\n        <path d=\"M 8.203125 72.90625 \nL 55.078125 72.90625 \nL 55.078125 68.703125 \nL 28.609375 0 \nL 18.3125 0 \nL 43.21875 64.59375 \nL 8.203125 64.59375 \nz\n\" id=\"DejaVuSans-55\"/>\n       </defs>\n       <use xlink:href=\"#DejaVuSans-48\"/>\n       <use x=\"63.623047\" xlink:href=\"#DejaVuSans-46\"/>\n       <use x=\"95.410156\" xlink:href=\"#DejaVuSans-55\"/>\n       <use x=\"159.033203\" xlink:href=\"#DejaVuSans-53\"/>\n      </g>\n     </g>\n    </g>\n    <g id=\"xtick_5\">\n     <g id=\"line2d_5\">\n      <g>\n       <use style=\"stroke:#000000;stroke-width:0.8;\" x=\"203.865625\" xlink:href=\"#m67df670a8b\" y=\"224.64\"/>\n      </g>\n     </g>\n     <g id=\"text_5\">\n      <!-- 1.00 -->\n      <g transform=\"translate(192.732813 239.238437)scale(0.1 -0.1)\">\n       <defs>\n        <path d=\"M 12.40625 8.296875 \nL 28.515625 8.296875 \nL 28.515625 63.921875 \nL 10.984375 60.40625 \nL 10.984375 69.390625 \nL 28.421875 72.90625 \nL 38.28125 72.90625 \nL 38.28125 8.296875 \nL 54.390625 8.296875 \nL 54.390625 0 \nL 12.40625 0 \nz\n\" id=\"DejaVuSans-49\"/>\n       </defs>\n       <use xlink:href=\"#DejaVuSans-49\"/>\n       <use x=\"63.623047\" xlink:href=\"#DejaVuSans-46\"/>\n       <use x=\"95.410156\" xlink:href=\"#DejaVuSans-48\"/>\n       <use x=\"159.033203\" xlink:href=\"#DejaVuSans-48\"/>\n      </g>\n     </g>\n    </g>\n    <g id=\"xtick_6\">\n     <g id=\"line2d_6\">\n      <g>\n       <use style=\"stroke:#000000;stroke-width:0.8;\" x=\"241.91108\" xlink:href=\"#m67df670a8b\" y=\"224.64\"/>\n      </g>\n     </g>\n     <g id=\"text_6\">\n      <!-- 1.25 -->\n      <g transform=\"translate(230.778267 239.238437)scale(0.1 -0.1)\">\n       <use xlink:href=\"#DejaVuSans-49\"/>\n       <use x=\"63.623047\" xlink:href=\"#DejaVuSans-46\"/>\n       <use x=\"95.410156\" xlink:href=\"#DejaVuSans-50\"/>\n       <use x=\"159.033203\" xlink:href=\"#DejaVuSans-53\"/>\n      </g>\n     </g>\n    </g>\n    <g id=\"xtick_7\">\n     <g id=\"line2d_7\">\n      <g>\n       <use style=\"stroke:#000000;stroke-width:0.8;\" x=\"279.956534\" xlink:href=\"#m67df670a8b\" y=\"224.64\"/>\n      </g>\n     </g>\n     <g id=\"text_7\">\n      <!-- 1.50 -->\n      <g transform=\"translate(268.823722 239.238437)scale(0.1 -0.1)\">\n       <use xlink:href=\"#DejaVuSans-49\"/>\n       <use x=\"63.623047\" xlink:href=\"#DejaVuSans-46\"/>\n       <use x=\"95.410156\" xlink:href=\"#DejaVuSans-53\"/>\n       <use x=\"159.033203\" xlink:href=\"#DejaVuSans-48\"/>\n      </g>\n     </g>\n    </g>\n    <g id=\"xtick_8\">\n     <g id=\"line2d_8\">\n      <g>\n       <use style=\"stroke:#000000;stroke-width:0.8;\" x=\"318.001989\" xlink:href=\"#m67df670a8b\" y=\"224.64\"/>\n      </g>\n     </g>\n     <g id=\"text_8\">\n      <!-- 1.75 -->\n      <g transform=\"translate(306.869176 239.238437)scale(0.1 -0.1)\">\n       <use xlink:href=\"#DejaVuSans-49\"/>\n       <use x=\"63.623047\" xlink:href=\"#DejaVuSans-46\"/>\n       <use x=\"95.410156\" xlink:href=\"#DejaVuSans-55\"/>\n       <use x=\"159.033203\" xlink:href=\"#DejaVuSans-53\"/>\n      </g>\n     </g>\n    </g>\n    <g id=\"xtick_9\">\n     <g id=\"line2d_9\">\n      <g>\n       <use style=\"stroke:#000000;stroke-width:0.8;\" x=\"356.047443\" xlink:href=\"#m67df670a8b\" y=\"224.64\"/>\n      </g>\n     </g>\n     <g id=\"text_9\">\n      <!-- 2.00 -->\n      <g transform=\"translate(344.914631 239.238437)scale(0.1 -0.1)\">\n       <use xlink:href=\"#DejaVuSans-50\"/>\n       <use x=\"63.623047\" xlink:href=\"#DejaVuSans-46\"/>\n       <use x=\"95.410156\" xlink:href=\"#DejaVuSans-48\"/>\n       <use x=\"159.033203\" xlink:href=\"#DejaVuSans-48\"/>\n      </g>\n     </g>\n    </g>\n   </g>\n   <g id=\"matplotlib.axis_2\">\n    <g id=\"ytick_1\">\n     <g id=\"line2d_10\">\n      <defs>\n       <path d=\"M 0 0 \nL -3.5 0 \n\" id=\"mada359a41b\" style=\"stroke:#000000;stroke-width:0.8;\"/>\n      </defs>\n      <g>\n       <use style=\"stroke:#000000;stroke-width:0.8;\" x=\"36.465625\" xlink:href=\"#mada359a41b\" y=\"189.277782\"/>\n      </g>\n     </g>\n     <g id=\"text_10\">\n      <!-- 0.05 -->\n      <g transform=\"translate(7.2 193.077001)scale(0.1 -0.1)\">\n       <use xlink:href=\"#DejaVuSans-48\"/>\n       <use x=\"63.623047\" xlink:href=\"#DejaVuSans-46\"/>\n       <use x=\"95.410156\" xlink:href=\"#DejaVuSans-48\"/>\n       <use x=\"159.033203\" xlink:href=\"#DejaVuSans-53\"/>\n      </g>\n     </g>\n    </g>\n    <g id=\"ytick_2\">\n     <g id=\"line2d_11\">\n      <g>\n       <use style=\"stroke:#000000;stroke-width:0.8;\" x=\"36.465625\" xlink:href=\"#mada359a41b\" y=\"152.39091\"/>\n      </g>\n     </g>\n     <g id=\"text_11\">\n      <!-- 0.10 -->\n      <g transform=\"translate(7.2 156.190129)scale(0.1 -0.1)\">\n       <use xlink:href=\"#DejaVuSans-48\"/>\n       <use x=\"63.623047\" xlink:href=\"#DejaVuSans-46\"/>\n       <use x=\"95.410156\" xlink:href=\"#DejaVuSans-49\"/>\n       <use x=\"159.033203\" xlink:href=\"#DejaVuSans-48\"/>\n      </g>\n     </g>\n    </g>\n    <g id=\"ytick_3\">\n     <g id=\"line2d_12\">\n      <g>\n       <use style=\"stroke:#000000;stroke-width:0.8;\" x=\"36.465625\" xlink:href=\"#mada359a41b\" y=\"115.504038\"/>\n      </g>\n     </g>\n     <g id=\"text_12\">\n      <!-- 0.15 -->\n      <g transform=\"translate(7.2 119.303257)scale(0.1 -0.1)\">\n       <use xlink:href=\"#DejaVuSans-48\"/>\n       <use x=\"63.623047\" xlink:href=\"#DejaVuSans-46\"/>\n       <use x=\"95.410156\" xlink:href=\"#DejaVuSans-49\"/>\n       <use x=\"159.033203\" xlink:href=\"#DejaVuSans-53\"/>\n      </g>\n     </g>\n    </g>\n    <g id=\"ytick_4\">\n     <g id=\"line2d_13\">\n      <g>\n       <use style=\"stroke:#000000;stroke-width:0.8;\" x=\"36.465625\" xlink:href=\"#mada359a41b\" y=\"78.617166\"/>\n      </g>\n     </g>\n     <g id=\"text_13\">\n      <!-- 0.20 -->\n      <g transform=\"translate(7.2 82.416384)scale(0.1 -0.1)\">\n       <use xlink:href=\"#DejaVuSans-48\"/>\n       <use x=\"63.623047\" xlink:href=\"#DejaVuSans-46\"/>\n       <use x=\"95.410156\" xlink:href=\"#DejaVuSans-50\"/>\n       <use x=\"159.033203\" xlink:href=\"#DejaVuSans-48\"/>\n      </g>\n     </g>\n    </g>\n    <g id=\"ytick_5\">\n     <g id=\"line2d_14\">\n      <g>\n       <use style=\"stroke:#000000;stroke-width:0.8;\" x=\"36.465625\" xlink:href=\"#mada359a41b\" y=\"41.730293\"/>\n      </g>\n     </g>\n     <g id=\"text_14\">\n      <!-- 0.25 -->\n      <g transform=\"translate(7.2 45.529512)scale(0.1 -0.1)\">\n       <use xlink:href=\"#DejaVuSans-48\"/>\n       <use x=\"63.623047\" xlink:href=\"#DejaVuSans-46\"/>\n       <use x=\"95.410156\" xlink:href=\"#DejaVuSans-50\"/>\n       <use x=\"159.033203\" xlink:href=\"#DejaVuSans-53\"/>\n      </g>\n     </g>\n    </g>\n   </g>\n   <g id=\"line2d_15\">\n    <path clip-path=\"url(#p3d083347cf)\" d=\"M 51.683807 17.083636 \nL 203.865625 45.135235 \nL 356.047443 62.803824 \n\" style=\"fill:none;stroke:#1f77b4;stroke-linecap:square;stroke-width:1.5;\"/>\n   </g>\n   <g id=\"line2d_16\">\n    <path clip-path=\"url(#p3d083347cf)\" d=\"M 51.683807 214.600738 \nL 203.865625 214.756364 \nL 356.047443 213.869587 \n\" style=\"fill:none;stroke:#ff7f0e;stroke-linecap:square;stroke-width:1.5;\"/>\n   </g>\n   <g id=\"patch_3\">\n    <path d=\"M 36.465625 224.64 \nL 36.465625 7.2 \n\" style=\"fill:none;stroke:#000000;stroke-linecap:square;stroke-linejoin:miter;stroke-width:0.8;\"/>\n   </g>\n   <g id=\"patch_4\">\n    <path d=\"M 371.265625 224.64 \nL 371.265625 7.2 \n\" style=\"fill:none;stroke:#000000;stroke-linecap:square;stroke-linejoin:miter;stroke-width:0.8;\"/>\n   </g>\n   <g id=\"patch_5\">\n    <path d=\"M 36.465625 224.64 \nL 371.265625 224.64 \n\" style=\"fill:none;stroke:#000000;stroke-linecap:square;stroke-linejoin:miter;stroke-width:0.8;\"/>\n   </g>\n   <g id=\"patch_6\">\n    <path d=\"M 36.465625 7.2 \nL 371.265625 7.2 \n\" style=\"fill:none;stroke:#000000;stroke-linecap:square;stroke-linejoin:miter;stroke-width:0.8;\"/>\n   </g>\n  </g>\n </g>\n <defs>\n  <clipPath id=\"p3d083347cf\">\n   <rect height=\"217.44\" width=\"334.8\" x=\"36.465625\" y=\"7.2\"/>\n  </clipPath>\n </defs>\n</svg>\n",
            "image/png": "[encoded data removed]"
          },
          "metadata": {
            "needs_background": "light"
          }
        }
      ],
      "source": [
        "print(len(train_loss))\n",
        "print(len(val_loss))\n",
        "plt.plot(train_loss)\n",
        "plt.plot(val_loss)\n",
        "plt.show()"
      ]
    },
    {
      "cell_type": "code",
      "metadata": {
        "id": "y1f-pz2F6o63"
      },
      "source": [
        "#import os\n",
        "\n",
        "#cwd = os.getcwd()\n",
        "\n",
        "PATH = 'Model_75%.pt'\n",
        "torch.save(model.state_dict(), PATH)\n"
      ],
      "id": "y1f-pz2F6o63",
      "execution_count": 15,
      "outputs": []
    },
    {
      "cell_type": "code",
      "execution_count": null,
      "metadata": {},
      "outputs": [],
      "source": []
    }
  ]
}